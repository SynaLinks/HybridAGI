{
 "cells": [
  {
   "cell_type": "markdown",
   "id": "44c79075-7fcb-4809-94f6-9f08fe26ac72",
   "metadata": {},
   "source": [
    "# ReACT Agent\n",
    "\n",
    "### Overview\n",
    "\n",
    "When discussing Large Language Model (LLM) Agents, the ReACT architecture is often at the forefront. This architecture is both simple and powerful, making it a popular choice in many mainstream Agentic frameworks. In this tutorial, we'll delve into how ReACT functions internally and showcase how to create a ReACT agent using HybridAGI, a versatile, graph-based Agentic framework.\n",
    "\n",
    "### Why ReACT?\n",
    "\n",
    "While the ReACT architecture provides a solid foundation, it is not always the best choice for every situation, particularly for complex tasks. Its simplicity can lead to limitations in control and efficiency. However, for those new to Graph-based Prompt Programming, ReACT offers an excellent starting point. With HybridAGI, you can build a ReACT agent and then expand and refine its capabilities by incorporating additional actions and decision-making processes, all within the same framework. This adaptability is one of the standout features of HybridAGI.\n",
    "\n",
    "### Key Components of a ReACT Agent\n",
    "\n",
    "A ReACT agent fundamentally consists of two main elements:\n",
    "\n",
    "1. **Tool Selection:** Deciding which tool or action to utilize based on the context and requirements.\n",
    "2. **Iterative Adaptation:** Continuously adjusting the agent's responses in response to user input and interactions.\n",
    "\n",
    "In the following sections, we'll guide you through building and refining a ReACT agent, helping you grasp the basics and leverage HybridAGI to enhance your agent's functionality.\n"
   ]
  },
  {
   "cell_type": "code",
   "execution_count": 1,
   "id": "7d7c8e21-a195-4cd9-aa48-53ee7e5c9151",
   "metadata": {},
   "outputs": [],
   "source": [
    "# Lets Import our Chain of Thought Graph\n",
    "import hybridagi.core.graph_program as gp"
   ]
  },
  {
   "cell_type": "markdown",
   "id": "fed7a3fb-9fbd-4853-b103-0541866e272a",
   "metadata": {},
   "source": [
    "## The Building Blocks\n",
    "In order to build Our Chain of Though (COT) ReACT agent we need to implement the Decisions our Agent is to make and specify which Actions it's allowed to take\n",
    "- Decisions: We specify what question the Agent should be asking itself in order to move on\n",
    "- Actions: We specify a prompt as to what the Agent is trying to accomplish with this Action and what tool it's allowed to use in order to complete that Action"
   ]
  },
  {
   "cell_type": "code",
   "execution_count": 2,
   "id": "e9e1a239-d5df-4fe7-adee-2a2705c88ef8",
   "metadata": {},
   "outputs": [],
   "source": [
    "# Initiate our Graph\n",
    "main = gp.GraphProgram(\n",
    "    name = 'main',\n",
    "    description = 'The main program'\n",
    ")"
   ]
  },
  {
   "cell_type": "code",
   "execution_count": 3,
   "id": "36b602a8-57a1-4bb0-9d08-a0bee7c56bd4",
   "metadata": {},
   "outputs": [],
   "source": [
    "# Specify the Decision to be made\n",
    "main.add(gp.Decision(\n",
    "    id = \"tool_choice\",\n",
    "    purpose = \"Choose the next tool to use\",\n",
    "    question = \\\n",
    "\"\"\"Which tool to use for the next step?\n",
    "Use the context to help you choose.\n",
    "To give the final answer just select finish\"\"\",\n",
    "))"
   ]
  },
  {
   "cell_type": "code",
   "execution_count": 4,
   "id": "e307d5cd-d553-444f-93dc-29d9590557d9",
   "metadata": {},
   "outputs": [],
   "source": [
    "#Specify the Actions our Agent can take, the prompt that specifies the goal of the action, and the tool the Agent will use at this step\n",
    "main.add(gp.Action(\n",
    "    id = \"ask_user\",\n",
    "    purpose = \"Ask the user\",\n",
    "    tool = \"AskUser\",\n",
    "    prompt = \"Ask a question to the user\",\n",
    "))\n",
    "\n",
    "main.add(gp.Action(\n",
    "    id = \"finish\",\n",
    "    purpose = \"End the conversation and give the final answer\",\n",
    "    tool = \"Speak\",\n",
    "    prompt = \"Please give the final answer, if you don't know just say that you don't know\",\n",
    "))"
   ]
  },
  {
   "cell_type": "markdown",
   "id": "872fb26d-f08f-433d-9402-9796bdc68814",
   "metadata": {},
   "source": [
    "## Connecting the Pieces\n",
    "Now that we have specified the \"Nodes\" in our Chain of Thought we need to connect the Nodes appropriately to impart this \"logic chain\" on the agent"
   ]
  },
  {
   "cell_type": "code",
   "execution_count": 5,
   "id": "78dfcf66-0e13-4f40-98ff-62711741c886",
   "metadata": {},
   "outputs": [
    {
     "name": "stdout",
     "output_type": "stream",
     "text": [
      "// @desc: The main program\n",
      "CREATE\n",
      "// Nodes declaration\n",
      "(start:Control {id: \"start\"}),\n",
      "(end:Control {id: \"end\"}),\n",
      "(tool_choice:Decision {\n",
      "  id: \"tool_choice\",\n",
      "  purpose: \"Choose the next tool to use\",\n",
      "  question: \"Which tool to use for the next step?\\nUse the context to help you choose.\\nTo give the final answer just select finish\"\n",
      "}),\n",
      "(ask_user:Action {\n",
      "  id: \"ask_user\",\n",
      "  purpose: \"Ask the user\",\n",
      "  tool: \"AskUser\",\n",
      "  prompt: \"Ask a question to the user\"\n",
      "}),\n",
      "(finish:Action {\n",
      "  id: \"finish\",\n",
      "  purpose: \"End the conversation and give the final answer\",\n",
      "  tool: \"Speak\",\n",
      "  prompt: \"Please give the final answer, if you don't know just say that you don't know\"\n",
      "}),\n",
      "// Structure declaration\n",
      "(start)-[:NEXT]->(tool_choice),\n",
      "(tool_choice)-[:ASK_USER]->(ask_user),\n",
      "(tool_choice)-[:FINISH]->(finish),\n",
      "(ask_user)-[:NEXT]->(tool_choice),\n",
      "(finish)-[:NEXT]->(end)\n"
     ]
    }
   ],
   "source": [
    "main.connect(\"start\", \"tool_choice\")\n",
    "main.connect(\"tool_choice\", \"ask_user\", label=\"Ask User\")\n",
    "main.connect(\"tool_choice\", \"finish\", label=\"Finish\")\n",
    "main.connect(\"ask_user\", \"tool_choice\")\n",
    "main.connect(\"finish\", \"end\")\n",
    "\n",
    "main.build()\n",
    "\n",
    "print(main)"
   ]
  },
  {
   "cell_type": "markdown",
   "id": "c8f6ba40-b778-4a6c-acc1-729b41cca516",
   "metadata": {},
   "source": [
    "## Building our Agent\n",
    "To set up our Agent we need to:\n",
    "1. Decide on an LLM to use\n",
    "2. Upload our Chain of Thought Graph into the Agent's Program Memory\n",
    "3. Declare the Agent State (this allows the Agent to orient itself inside the Graph)\n",
    "4. Declare our Tools\n",
    "5. Instantiate the Agent itself"
   ]
  },
  {
   "cell_type": "markdown",
   "id": "735f2f98-724b-4d77-88d4-6aff8e1c869f",
   "metadata": {},
   "source": [
    "### 1. Decide on the LLM to use\n",
    "HybridAGI interacts over the top of the dspy library, in this tutorial I will be runnning the Agent Locally over Ollama\n",
    "- To Download Ollama you can do so simply [here](https://ollama.com/download)\n",
    "- Then you can either launch Ollama as from the App or in your terminal by running the command:\n",
    "\n",
    "\n",
    "  ```bash\n",
    "  ollama serve\n",
    "  ollama run <your-model>\n",
    "  ```"
   ]
  },
  {
   "cell_type": "markdown",
   "id": "902c1e47-2d72-4974-8d35-7a49ec2f2d52",
   "metadata": {},
   "source": [
    "- To verify Ollama is running you can go to http://localhost:11434/ for the \"Ollama is running\" notification"
   ]
  },
  {
   "cell_type": "markdown",
   "id": "903faf26-43ad-4413-9c2e-3a261f9d00e7",
   "metadata": {},
   "source": [
    "#### Ollama Model Options (I will be using Mistral for this Tutorial)\n",
    "\n",
    "<img src=\"../img/ollama_models.png\" alt=\"Placeholder Image\" width=\"40%\">"
   ]
  },
  {
   "cell_type": "markdown",
   "id": "48fd943e-dbe0-45b7-ab79-dfae6df2c2e3",
   "metadata": {},
   "source": [
    "#### In Google Colab\n",
    "If you're following this notebook in Google Colab you can get Ollama's server running by following these steps:\n",
    "- Installing the Terminal Package\n",
    "```python\n",
    "!pip install colab-xterm #https://pypi.org/project/colab-xterm/\n",
    "%load_ext colabxterm\n"
   ]
  },
  {
   "cell_type": "markdown",
   "id": "4a9d6399-1d87-410a-afe5-878bdceb78a4",
   "metadata": {},
   "source": [
    "- Opening the Terminal\n",
    "```bash\n",
    "%xterm"
   ]
  },
  {
   "cell_type": "markdown",
   "id": "40e12eee-44c0-4d8f-af7a-624845c11115",
   "metadata": {},
   "source": [
    "- Inside the Terminal Run this Linux Command:\n",
    "\n",
    "```bash\n",
    "curl -fsSL https://ollama.com/install.sh | sh"
   ]
  },
  {
   "cell_type": "markdown",
   "id": "95d4d506-17db-4fa2-957c-065bcd43df39",
   "metadata": {},
   "source": [
    "- Finally Serve your Model\n",
    "```bash\n",
    "ollama serve\n",
    "ollama run <your-model>"
   ]
  },
  {
   "cell_type": "code",
   "execution_count": 6,
   "id": "b7ae58dd-162b-4179-be33-43820ef74807",
   "metadata": {},
   "outputs": [],
   "source": [
    "import dspy\n",
    "lm = dspy.OllamaLocal(model='mistral', max_tokens=1024, stop=[\"\\n\\n\\n\", \"\\n---\"])\n",
    "dspy.configure(lm=lm)"
   ]
  },
  {
   "cell_type": "markdown",
   "id": "fb2b225d-a8fd-4799-8ddd-1ed33ffcc141",
   "metadata": {},
   "source": [
    "### 2. Upload the COT to our Program's Memory"
   ]
  },
  {
   "cell_type": "code",
   "execution_count": 7,
   "id": "49f630ca-01ce-4aa6-bac8-e66459d892c3",
   "metadata": {},
   "outputs": [],
   "source": [
    "from hybridagi.memory.integration.local import LocalProgramMemory\n",
    "program_memory = LocalProgramMemory(index_name=\"react_agent\")\n",
    "program_memory.update(main)"
   ]
  },
  {
   "cell_type": "markdown",
   "id": "66c7f405-dfe6-41a4-b06e-ef4373371166",
   "metadata": {},
   "source": [
    "### 3. Orient our Agent in the Graph using Agent State"
   ]
  },
  {
   "cell_type": "code",
   "execution_count": 8,
   "id": "0b4022a3-f6fb-4483-99d8-14cb14479330",
   "metadata": {},
   "outputs": [],
   "source": [
    "from hybridagi.core.datatypes import AgentState\n",
    "agent_state = AgentState()"
   ]
  },
  {
   "cell_type": "markdown",
   "id": "3a04dceb-0aae-4bf0-86f1-c84c1eb4fb95",
   "metadata": {},
   "source": [
    "### 4. Declare our Tools"
   ]
  },
  {
   "cell_type": "code",
   "execution_count": 9,
   "id": "7b1c0ec6-0d44-45f2-a20d-d4eabdea7389",
   "metadata": {},
   "outputs": [],
   "source": [
    "from hybridagi.modules.agents.tools import (\n",
    "    SpeakTool,\n",
    "    AskUserTool\n",
    ")\n",
    "tools = [\n",
    "    SpeakTool(\n",
    "        agent_state = agent_state,\n",
    "    ),\n",
    "    AskUserTool(\n",
    "        agent_state = agent_state, simulated=True\n",
    "    )\n",
    "]"
   ]
  },
  {
   "cell_type": "markdown",
   "id": "d21520a4-0542-411e-9000-d6179bffa99b",
   "metadata": {},
   "source": [
    "### 5. Build the Agent"
   ]
  },
  {
   "cell_type": "code",
   "execution_count": 10,
   "id": "7d86b129-aac6-4dd6-bcd9-98104bdfde9f",
   "metadata": {},
   "outputs": [],
   "source": [
    "from hybridagi.modules.agents import GraphInterpreterAgent\n",
    "agent = GraphInterpreterAgent(\n",
    "    program_memory = program_memory,\n",
    "    agent_state = agent_state,\n",
    "    tools = tools,\n",
    ")"
   ]
  },
  {
   "cell_type": "markdown",
   "id": "fa5b79ac-947d-4229-b747-1510401fbad8",
   "metadata": {},
   "source": [
    "## Now Lets Talk to Our ReACT Agent!"
   ]
  },
  {
   "cell_type": "code",
   "execution_count": 11,
   "id": "436bb2ac-1129-4abd-9db3-1a87c5d86e84",
   "metadata": {},
   "outputs": [
    {
     "name": "stdout",
     "output_type": "stream",
     "text": [
      "\u001b[35m--- Step 0 ---\n",
      "Call Program: main\n",
      "Program Purpose: Please teach me how to how to bake a chocolate, vanilla or strawberry cake\u001b[0m\n",
      "\u001b[34m--- Step 1 ---\n",
      "Decision Purpose: Choose the next tool to use\n",
      "Decision Question: Which tool to use for the next step?\n",
      "Use the context to help you choose.\n",
      "To give the final answer just select finish\n",
      "Decision: FINISH\u001b[0m\n",
      "\u001b[36m--- Step 2 ---\n",
      "Action Purpose: End the conversation and give the final answer\n",
      "Action: {\n",
      "  \"message\": \"To bake a chocolate, vanilla or strawberry cake, follow these steps:\\n\\n1. Gather your ingredients: flour, sugar, baking powder, salt, eggs, milk, and butter for the base. For flavoring, choose cocoa powder for chocolate cake, vanilla extract for vanilla cake, or strawberries for strawberry cake.\\n\\n2. Preheat your oven to 350\\u00b0F (175\\u00b0C). Grease and flour a cake pan.\\n\\n3. In a large bowl, combine the dry ingredients: flour, sugar, baking powder, and salt.\\n\\n4. In another bowl, beat the eggs and gradually add milk and melted butter. If you're making a chocolate or strawberry cake, mix in your flavoring at this stage. For chocolate cake, use cocoa powder; for strawberry cake, puree fresh strawberries.\\n\\n5. Gradually add the wet ingredients to the dry ingredients and mix until just combined. Be careful not to overmix.\\n\\n6. Pour the batter into the prepared cake pan and smooth the top with a spatula.\\n\\n7. Bake in the preheated oven for about 30-40 minutes, or until a toothpick inserted into the center of the cake comes out clean.\\n\\n8. Allow the cake to cool before removing it from the pan and serving. Enjoy your homemade cake!\"\n",
      "}\u001b[0m\n",
      "\u001b[35m--- Step 3 ---\n",
      "End Program: main\u001b[0m\n",
      "To bake a chocolate, vanilla or strawberry cake, follow these steps:\n",
      "\n",
      "1. Gather your ingredients: flour, sugar, baking powder, salt, eggs, milk, and butter for the base. For flavoring, choose cocoa powder for chocolate cake, vanilla extract for vanilla cake, or strawberries for strawberry cake.\n",
      "\n",
      "2. Preheat your oven to 350°F (175°C). Grease and flour a cake pan.\n",
      "\n",
      "3. In a large bowl, combine the dry ingredients: flour, sugar, baking powder, and salt.\n",
      "\n",
      "4. In another bowl, beat the eggs and gradually add milk and melted butter. If you're making a chocolate or strawberry cake, mix in your flavoring at this stage. For chocolate cake, use cocoa powder; for strawberry cake, puree fresh strawberries.\n",
      "\n",
      "5. Gradually add the wet ingredients to the dry ingredients and mix until just combined. Be careful not to overmix.\n",
      "\n",
      "6. Pour the batter into the prepared cake pan and smooth the top with a spatula.\n",
      "\n",
      "7. Bake in the preheated oven for about 30-40 minutes, or until a toothpick inserted into the center of the cake comes out clean.\n",
      "\n",
      "8. Allow the cake to cool before removing it from the pan and serving. Enjoy your homemade cake!\n"
     ]
    }
   ],
   "source": [
    "from hybridagi.core.datatypes import Query\n",
    "result = agent(Query(query=\"Please teach me how to how to bake a chocolate, vanilla or strawberry cake\"))\n",
    "\n",
    "print(result.final_answer)"
   ]
  },
  {
   "cell_type": "markdown",
   "id": "e9a86d66-b100-4a6e-a3b6-1e5ea92a084e",
   "metadata": {},
   "source": [
    "### Analyzing Response\n",
    "It looks like our Agent felt confident enough to proceed directly to an answer, but what if we force its hand to ask a question?\n",
    "- *Note: Our AskUserTool is set to simulation=True, meaning the AskUser answer will be simulated by the LLM rather than taking actual input of a user*"
   ]
  },
  {
   "cell_type": "code",
   "execution_count": 12,
   "id": "f89b401e-b56f-4c39-95a2-414c55e98765",
   "metadata": {},
   "outputs": [
    {
     "name": "stdout",
     "output_type": "stream",
     "text": [
      "\u001b[35m--- Step 0 ---\n",
      "Call Program: main\n",
      "Program Purpose: Please teach me how to how to bake a\u001b[0m\n",
      "\u001b[34m--- Step 1 ---\n",
      "Decision Purpose: Choose the next tool to use\n",
      "Decision Question: Which tool to use for the next step?\n",
      "Use the context to help you choose.\n",
      "To give the final answer just select finish\n",
      "Decision: ASK_USER\u001b[0m\n",
      "\u001b[36m--- Step 2 ---\n",
      "Action Purpose: Ask the user\n",
      "Action: {\n",
      "  \"question\": \"What baking recipe or type of baked good would you like me to teach you how to make?\",\n",
      "  \"answer\": \"A simple chocolate chip cookie recipe, please.\"\n",
      "}\u001b[0m\n",
      "\u001b[34m--- Step 3 ---\n",
      "Decision Purpose: Choose the next tool to use\n",
      "Decision Question: Which tool to use for the next step?\n",
      "Use the context to help you choose.\n",
      "To give the final answer just select finish\n",
      "Decision: ASK_USER\u001b[0m\n",
      "\u001b[36m--- Step 4 ---\n",
      "Action Purpose: Ask the user\n",
      "Action: {\n",
      "  \"question\": \"What ingredients do you have for making a simple chocolate chip cookie recipe?\",\n",
      "  \"answer\": \"I have flour, sugar, eggs, baking soda, and chocolate chips.\"\n",
      "}\u001b[0m\n",
      "\u001b[34m--- Step 5 ---\n",
      "Decision Purpose: Choose the next tool to use\n",
      "Decision Question: Which tool to use for the next step?\n",
      "Use the context to help you choose.\n",
      "To give the final answer just select finish\n",
      "Decision: FINISH\u001b[0m\n",
      "\u001b[36m--- Step 6 ---\n",
      "Action Purpose: End the conversation and give the final answer\n",
      "Action: {\n",
      "  \"message\": \"Great! You have all the necessary ingredients for a simple chocolate chip cookie recipe. Here is a step-by-step guide on how to make them:\\n\\n1. Preheat your oven to 350\\u00b0F (175\\u00b0C).\\n2. In a large bowl, combine 2 1/4 cups of flour, 1 cup of sugar, and 1/2 teaspoon of baking soda.\\n3. In another bowl, beat 1 egg.\\n4. Add the beaten egg to the dry ingredients and mix well.\\n5. Stir in 1/2 cup of melted butter and 1 cup of chocolate chips.\\n6. Drop spoonfuls of dough onto an ungreased baking sheet.\\n7. Bake for 8-10 minutes or until golden brown.\\n8. Let the cookies cool on a wire rack before serving.\\n\\nEnjoy your homemade chocolate chip cookies! If you have any questions or need further assistance, feel free to ask.\"\n",
      "}\u001b[0m\n",
      "\u001b[35m--- Step 7 ---\n",
      "End Program: main\u001b[0m\n",
      "Great! You have all the necessary ingredients for a simple chocolate chip cookie recipe. Here is a step-by-step guide on how to make them:\n",
      "\n",
      "1. Preheat your oven to 350°F (175°C).\n",
      "2. In a large bowl, combine 2 1/4 cups of flour, 1 cup of sugar, and 1/2 teaspoon of baking soda.\n",
      "3. In another bowl, beat 1 egg.\n",
      "4. Add the beaten egg to the dry ingredients and mix well.\n",
      "5. Stir in 1/2 cup of melted butter and 1 cup of chocolate chips.\n",
      "6. Drop spoonfuls of dough onto an ungreased baking sheet.\n",
      "7. Bake for 8-10 minutes or until golden brown.\n",
      "8. Let the cookies cool on a wire rack before serving.\n",
      "\n",
      "Enjoy your homemade chocolate chip cookies! If you have any questions or need further assistance, feel free to ask.\n"
     ]
    }
   ],
   "source": [
    "result = agent(Query(query=\"Please teach me how to how to bake a\"))\n",
    "\n",
    "print(result.final_answer)"
   ]
  },
  {
   "cell_type": "markdown",
   "id": "4672c9a4-ce42-4d83-9c81-057a1e0c9135",
   "metadata": {},
   "source": [
    "## The Customizable nature of HybridAGI\n",
    "Wait a second. After the agent asked the user for clarification on what should be baked it should have changed the Objective of the conversation to teaching the user how to make the Chocolate Chip Cookies. Instead, the agent chose to ask another question: what ingredients the user had access to. \n",
    "To closer align our Agent to our intended purpose we can show off the customizable nature of HybridAGI by changing our decision process and introducting the UpdateObjective tool!"
   ]
  },
  {
   "cell_type": "markdown",
   "id": "198711e4-a136-44c7-8183-b82456dc9e6f",
   "metadata": {},
   "source": [
    "### Creating our New Building Blocks"
   ]
  },
  {
   "cell_type": "code",
   "execution_count": 13,
   "id": "0fd815a5-deb3-41a1-8358-41a05ae85e67",
   "metadata": {},
   "outputs": [
    {
     "name": "stdout",
     "output_type": "stream",
     "text": [
      "// @desc: The main program\n",
      "CREATE\n",
      "// Nodes declaration\n",
      "(start:Control {id: \"start\"}),\n",
      "(end:Control {id: \"end\"}),\n",
      "(tool_choice:Decision {\n",
      "  id: \"tool_choice\",\n",
      "  purpose: \"Choose the next tool to use\",\n",
      "  question: \"Which tool to use for the next step?\\nUse the context to help you choose.\\nTo give the final answer just select finish\"\n",
      "}),\n",
      "(ask_user:Action {\n",
      "  id: \"ask_user\",\n",
      "  purpose: \"Ask the user\",\n",
      "  tool: \"AskUser\",\n",
      "  prompt: \"Ask a question to the user\"\n",
      "}),\n",
      "(refine_objective:Action {\n",
      "  id: \"refine_objective\",\n",
      "  purpose: \"Refine the objective\",\n",
      "  tool: \"UpdateObjective\",\n",
      "  prompt: \"Please refine the User Objective\"\n",
      "}),\n",
      "(finish:Action {\n",
      "  id: \"finish\",\n",
      "  purpose: \"End the conversation and give the final answer\",\n",
      "  tool: \"Speak\",\n",
      "  prompt: \"Please give the final answer, if you don't know just say that you don't know\"\n",
      "}),\n",
      "// Structure declaration\n",
      "(start)-[:NEXT]->(tool_choice),\n",
      "(tool_choice)-[:ASK_USER]->(ask_user),\n",
      "(tool_choice)-[:FINISH]->(finish),\n",
      "(ask_user)-[:NEXT]->(refine_objective),\n",
      "(refine_objective)-[:NEXT]->(finish),\n",
      "(finish)-[:NEXT]->(end)\n"
     ]
    }
   ],
   "source": [
    "main = gp.GraphProgram(\n",
    "    name = \"main\",\n",
    "    description = \"The main program\",\n",
    ")\n",
    "\n",
    "main.add(gp.Decision(\n",
    "    id = \"tool_choice\",\n",
    "    purpose = \"Choose the next tool to use\",\n",
    "    question = \\\n",
    "\"\"\"Which tool to use for the next step?\n",
    "Use the context to help you choose.\n",
    "To give the final answer just select finish\"\"\",\n",
    "))\n",
    "\n",
    "main.add(gp.Action(\n",
    "    id = \"ask_user\",\n",
    "    purpose = \"Ask the user\",\n",
    "    tool = \"AskUser\",\n",
    "    prompt = \"Ask a question to the user\",\n",
    "))\n",
    "\n",
    "main.add(gp.Action(\n",
    "    id='refine_objective',\n",
    "    purpose='Refine the objective',\n",
    "    tool='UpdateObjective',\n",
    "    prompt='Please refine the User Objective'\n",
    "))\n",
    "\n",
    "main.add(gp.Action(\n",
    "    id = \"finish\",\n",
    "    purpose = \"End the conversation and give the final answer\",\n",
    "    tool = \"Speak\",\n",
    "    prompt = \"Please give the final answer, if you don't know just say that you don't know\",\n",
    "))\n",
    "\n",
    "main.connect(\"start\", \"tool_choice\")\n",
    "main.connect(\"tool_choice\", \"ask_user\", label=\"Ask User\")\n",
    "main.connect(\"tool_choice\", \"finish\", label=\"Finish\")\n",
    "main.connect(\"ask_user\", \"refine_objective\")\n",
    "main.connect('refine_objective', 'finish')\n",
    "main.connect(\"finish\", \"end\")\n",
    "\n",
    "main.build()\n",
    "\n",
    "print(main)"
   ]
  },
  {
   "cell_type": "code",
   "execution_count": 15,
   "id": "152872ae-1d19-433f-9f66-e027b4529cbf",
   "metadata": {},
   "outputs": [],
   "source": [
    "from hybridagi.modules.agents.tools import UpdateObjectiveTool\n",
    "\n",
    "# Upload our Graph into memory\n",
    "program_memory = LocalProgramMemory(index_name=\"react_agent\")\n",
    "program_memory.update(main)\n",
    "\n",
    "# Orient our Agent\n",
    "agent_state = AgentState()\n",
    "\n",
    "# Set up our Tools\n",
    "tools = [\n",
    "    SpeakTool(\n",
    "        agent_state = agent_state,\n",
    "    ),\n",
    "    AskUserTool(\n",
    "        agent_state = agent_state, simulated=True\n",
    "    ),\n",
    "    UpdateObjectiveTool(agent_state=agent_state)\n",
    "]\n",
    "\n",
    "# Build our Agent\n",
    "agent = GraphInterpreterAgent(\n",
    "    program_memory = program_memory,\n",
    "    agent_state = agent_state,\n",
    "    tools = tools,\n",
    ")"
   ]
  },
  {
   "cell_type": "code",
   "execution_count": 16,
   "id": "cc92a2c9-8c7e-4d7a-8791-f494369b5541",
   "metadata": {},
   "outputs": [
    {
     "name": "stdout",
     "output_type": "stream",
     "text": [
      "\u001b[35m--- Step 0 ---\n",
      "Call Program: main\n",
      "Program Purpose: Please teach me how to how to bake a\u001b[0m\n",
      "\u001b[34m--- Step 1 ---\n",
      "Decision Purpose: Choose the next tool to use\n",
      "Decision Question: Which tool to use for the next step?\n",
      "Use the context to help you choose.\n",
      "To give the final answer just select finish\n",
      "Decision: ASK_USER\u001b[0m\n",
      "\u001b[36m--- Step 2 ---\n",
      "Action Purpose: Ask the user\n",
      "Action: {\n",
      "  \"question\": \"What baking recipe or type of baked good would you like me to teach you how to make?\",\n",
      "  \"answer\": \"A simple chocolate chip cookie recipe, please.\"\n",
      "}\u001b[0m\n",
      "\u001b[36m--- Step 3 ---\n",
      "Action Purpose: Refine the objective\n",
      "Action: {\n",
      "  \"new_objective\": \"Teach me a simple chocolate chip cookie recipe.\\n\\nContext: The user has requested to learn how to bake a simple chocolate chip cookie recipe.\\n\\nPurpose: Provide instructions for baking a simple chocolate chip cookie recipe.\\n\\nPrompt: Begin by explaining the ingredients and steps required to make a simple chocolate chip cookie recipe.\"\n",
      "}\u001b[0m\n",
      "\u001b[36m--- Step 4 ---\n",
      "Action Purpose: End the conversation and give the final answer\n",
      "Action: {\n",
      "  \"message\": \"Here is a simple chocolate chip cookie recipe for you:\\n\\nIngredients:\\n- 1 and 1/2 cups all-purpose flour\\n- 1/2 teaspoon baking soda\\n- 1/2 teaspoon salt\\n- 3/4 cup unsalted butter, softened\\n- 1/2 cup granulated sugar\\n- 1/2 cup packed light-brown sugar\\n- 1 large egg\\n- 1 teaspoon vanilla extract\\n- 2 cups semisweet chocolate chips\\n- 1 and 1/2 cups old-fashioned oats\\n\\nSteps:\\n1. Preheat your oven to 350\\u00b0F (176\\u00b0C). Line a baking sheet with parchment paper or a silicone mat.\\n\\n2. In a medium bowl, whisk together the flour, baking soda, and salt. Set aside.\\n\\n3. In a large bowl, beat the butter, granulated sugar, and brown sugar until it is smooth. Beat in the egg and vanilla extract.\\n\\n4. Gradually mix in the dry ingredients into the wet mixture. Stir in the chocolate chips and oats.\\n\\n5. Drop rounded tablespoons of dough onto the prepared baking sheet. Bake for 10-12 minutes, or until the edges are lightly toasted. Let them cool on the baking sheet for a few minutes before transferring them to a wire rack to cool completely.\\n\\nEnjoy your homemade chocolate chip cookies!\"\n",
      "}\u001b[0m\n",
      "\u001b[35m--- Step 5 ---\n",
      "End Program: main\u001b[0m\n",
      "Here is a simple chocolate chip cookie recipe for you:\n",
      "\n",
      "Ingredients:\n",
      "- 1 and 1/2 cups all-purpose flour\n",
      "- 1/2 teaspoon baking soda\n",
      "- 1/2 teaspoon salt\n",
      "- 3/4 cup unsalted butter, softened\n",
      "- 1/2 cup granulated sugar\n",
      "- 1/2 cup packed light-brown sugar\n",
      "- 1 large egg\n",
      "- 1 teaspoon vanilla extract\n",
      "- 2 cups semisweet chocolate chips\n",
      "- 1 and 1/2 cups old-fashioned oats\n",
      "\n",
      "Steps:\n",
      "1. Preheat your oven to 350°F (176°C). Line a baking sheet with parchment paper or a silicone mat.\n",
      "\n",
      "2. In a medium bowl, whisk together the flour, baking soda, and salt. Set aside.\n",
      "\n",
      "3. In a large bowl, beat the butter, granulated sugar, and brown sugar until it is smooth. Beat in the egg and vanilla extract.\n",
      "\n",
      "4. Gradually mix in the dry ingredients into the wet mixture. Stir in the chocolate chips and oats.\n",
      "\n",
      "5. Drop rounded tablespoons of dough onto the prepared baking sheet. Bake for 10-12 minutes, or until the edges are lightly toasted. Let them cool on the baking sheet for a few minutes before transferring them to a wire rack to cool completely.\n",
      "\n",
      "Enjoy your homemade chocolate chip cookies!\n"
     ]
    }
   ],
   "source": [
    "result = agent(Query(query=\"Please teach me how to how to bake a\"))\n",
    "\n",
    "print(result.final_answer)"
   ]
  },
  {
   "cell_type": "markdown",
   "id": "5b91c5eb-94dc-43bd-bff5-461d0ea6e715",
   "metadata": {},
   "source": [
    "### Saving our COT Graph\n",
    "Perfect! Now our Interactive ReACT Agent acts exactly as expected. Now to take this model with us to our desired application or to save for use later we can save our Chain of Thought Graph with the .save() command"
   ]
  },
  {
   "cell_type": "code",
   "execution_count": null,
   "id": "ea40c166-387e-4745-b8f5-882ed95c12ad",
   "metadata": {},
   "outputs": [],
   "source": [
    "main.save()"
   ]
  },
  {
   "cell_type": "markdown",
   "id": "e165c7dc-8a43-47e0-9bf4-b62869129c9c",
   "metadata": {},
   "source": [
    "#### The saved graph can then be uploaded directly into program memory like this:"
   ]
  },
  {
   "cell_type": "code",
   "execution_count": null,
   "id": "fae07726-e626-4388-be08-b01c4e4b825f",
   "metadata": {},
   "outputs": [],
   "source": [
    "from hybridagi.readers import GraphProgramReader\n",
    "\n",
    "#Set up the reader for our .cypher file\n",
    "reader = GraphProgramReader()\n",
    "main = reader('main.cypher')"
   ]
  }
 ],
 "metadata": {
  "kernelspec": {
   "display_name": "Python 3 (ipykernel)",
   "language": "python",
   "name": "python3"
  },
  "language_info": {
   "codemirror_mode": {
    "name": "ipython",
    "version": 3
   },
   "file_extension": ".py",
   "mimetype": "text/x-python",
   "name": "python",
   "nbconvert_exporter": "python",
   "pygments_lexer": "ipython3",
   "version": "3.11.7"
  }
 },
 "nbformat": 4,
 "nbformat_minor": 5
}
