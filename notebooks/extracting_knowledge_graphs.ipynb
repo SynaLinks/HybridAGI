{
 "cells": [
  {
   "cell_type": "markdown",
   "metadata": {},
   "source": [
    "# Extracting Knowledge Graphs with LLMs\n",
    "\n",
    "You can use LLMs to extract graph data"
   ]
  },
  {
   "cell_type": "code",
   "execution_count": 1,
   "metadata": {},
   "outputs": [
    {
     "name": "stderr",
     "output_type": "stream",
     "text": [
      "/home/yoan/.cache/pypoetry/virtualenvs/hybridagi-B1GoJrSC-py3.10/lib/python3.10/site-packages/tqdm/auto.py:21: TqdmWarning: IProgress not found. Please update jupyter and ipywidgets. See https://ipywidgets.readthedocs.io/en/stable/user_install.html\n",
      "  from .autonotebook import tqdm as notebook_tqdm\n",
      "100%|██████████| 1/1 [00:00<00:00, 7476.48it/s]\n",
      "100%|██████████| 4/4 [00:20<00:00,  5.05s/it]\n",
      "100%|██████████| 24/24 [00:00<00:00, 145047.98it/s]\n"
     ]
    },
    {
     "name": "stdout",
     "output_type": "stream",
     "text": [
      "synalinks_graph_fact_memory.html\n"
     ]
    }
   ],
   "source": [
    "import dspy\n",
    "from hybridagi.readers import TextReader\n",
    "from hybridagi.core.pipeline import Pipeline\n",
    "from hybridagi.modules.splitters import DocumentSentenceSplitter\n",
    "from hybridagi.modules.extractors import LLMClaimsExtractor, LLMFactsExtractor\n",
    "from hybridagi.modules.deduplicators import EntityDeduplicator\n",
    "from hybridagi.memory.integration.local import LocalFactMemory\n",
    "\n",
    "lm = dspy.OllamaLocal(model='mistral', max_tokens=1024, stop=[\"\\n\\n\\n\", \"\\n---\", \"\\n\\nContext:\"])\n",
    "dspy.configure(lm=lm)\n",
    "\n",
    "reader = TextReader()\n",
    "\n",
    "input_docs = reader(\"data/SynaLinks_presentation.md\")\n",
    "\n",
    "pipeline = Pipeline()\n",
    "\n",
    "pipeline.add(\"chunk_docs\", DocumentSentenceSplitter(\n",
    "    method = \"word\",\n",
    "    chunk_size = 100,\n",
    "    chunk_overlap = 0,\n",
    "    separator = \" \",\n",
    "))\n",
    "pipeline.add(\"extract_facts\", LLMFactsExtractor())\n",
    "pipeline.add(\"deduplicate_entities\", EntityDeduplicator(method=\"exact\"))\n",
    "\n",
    "output_facts = pipeline(input_docs)\n",
    "\n",
    "fact_memory = LocalFactMemory(index_name=\"synalinks_graph\")\n",
    "\n",
    "fact_memory.update(output_facts)\n",
    "\n",
    "fact_memory.show()\n"
   ]
  }
 ],
 "metadata": {
  "kernelspec": {
   "display_name": "hybridagi-B1GoJrSC-py3.10",
   "language": "python",
   "name": "python3"
  },
  "language_info": {
   "codemirror_mode": {
    "name": "ipython",
    "version": 3
   },
   "file_extension": ".py",
   "mimetype": "text/x-python",
   "name": "python",
   "nbconvert_exporter": "python",
   "pygments_lexer": "ipython3",
   "version": "3.10.12"
  }
 },
 "nbformat": 4,
 "nbformat_minor": 2
}
