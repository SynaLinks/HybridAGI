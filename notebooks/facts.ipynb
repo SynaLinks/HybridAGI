{
 "cells": [
  {
   "cell_type": "code",
   "execution_count": 1,
   "metadata": {},
   "outputs": [
    {
     "name": "stderr",
     "output_type": "stream",
     "text": [
      "/home/yoan/.cache/pypoetry/virtualenvs/hybridagi-B1GoJrSC-py3.10/lib/python3.10/site-packages/tqdm/auto.py:21: TqdmWarning: IProgress not found. Please update jupyter and ipywidgets. See https://ipywidgets.readthedocs.io/en/stable/user_install.html\n",
      "  from .autonotebook import tqdm as notebook_tqdm\n"
     ]
    }
   ],
   "source": [
    "import hybridagi.core.datatypes as dt\n",
    "\n",
    "input_data = \\\n",
    "[\n",
    "    {\n",
    "        \"Title\": \"The Shawshank Redemption\",\n",
    "        \"Year Produced\": 1994,\n",
    "        \"Actors\": [\"Tim Robbins\", \"Morgan Freeman\"],\n",
    "        \"Directors\": [\"Frank Darabont\"],\n",
    "        \"Genres\": [\"Drama\", \"Crime\"],\n",
    "        \"Ratings\": 9.3\n",
    "    },\n",
    "    {\n",
    "        \"Title\": \"The Godfather\",\n",
    "        \"Year Produced\": 1972,\n",
    "        \"Actors\": [\"Marlon Brando\", \"Al Pacino\", \"Diane Keaton\"],\n",
    "        \"Directors\": [\"Francis Ford Coppola\"],\n",
    "        \"Genres\": [\"Crime\", \"Drama\"],\n",
    "        \"Ratings\": 9.2\n",
    "    },\n",
    "    {\n",
    "        \"Title\": \"The Godfather: Part II\",\n",
    "        \"Year Produced\": 1974,\n",
    "        \"Actors\": [\"Al Pacino\", \"Robert De Niro\", \"Diane Keaton\"],\n",
    "        \"Directors\": [\"Francis Ford Coppola\"],\n",
    "        \"Genres\": [\"Crime\", \"Drama\"],\n",
    "        \"Ratings\": 9.0\n",
    "    },\n",
    "    {\n",
    "        \"Title\": \"The Dark Knight\",\n",
    "        \"Year Produced\": 2008,\n",
    "        \"Actors\": [\"Christian Bale\", \"Heath Ledger\", \"Maggie Gyllenhaal\"],\n",
    "        \"Directors\": [\"Christopher Nolan\"],\n",
    "        \"Genres\": [\"Action\", \"Crime\", \"Drama\"],\n",
    "        \"Ratings\": 9.0\n",
    "    },\n",
    "    {\n",
    "        \"Title\": \"Pulp Fiction\",\n",
    "        \"Year Produced\": 1994,\n",
    "        \"Actors\": [\"John Travolta\", \"Uma Thurman\", \"Samuel L. Jackson\"],\n",
    "        \"Directors\": [\"Quentin Tarantino\"],\n",
    "        \"Genres\": [\"Crime\", \"Drama\"],\n",
    "        \"Ratings\": 8.9\n",
    "    },\n",
    "    {\n",
    "        \"Title\": \"Schindler's List\",\n",
    "        \"Year Produced\": 1993,\n",
    "        \"Actors\": [\"Liam Neeson\", \"Ralph Fiennes\", \"Embeth Davidtz\"],\n",
    "        \"Directors\": [\"Steven Spielberg\"],\n",
    "        \"Genres\": [\"Drama\", \"History\", \"War\"],\n",
    "        \"Ratings\": 8.9\n",
    "    },\n",
    "    {\n",
    "        \"Title\": \"12 Angry Men\",\n",
    "        \"Year Produced\": 1957,\n",
    "        \"Actors\": [\"Henry Fonda\", \"Lee J. Cobb\", \"Ed Begley\"],\n",
    "        \"Directors\": [\"Sidney Lumet\"],\n",
    "        \"Genres\": [\"Drama\"],\n",
    "        \"Ratings\": 8.9\n",
    "    },\n",
    "    {\n",
    "        \"Title\": \"The Lord of the Rings: The Return of the King\",\n",
    "        \"Year Produced\": 2003,\n",
    "        \"Actors\": [\"Elijah Wood\", \"Viggo Mortensen\", \"Cate Blanchett\"],\n",
    "        \"Directors\": [\"Peter Jackson\"],\n",
    "        \"Genres\": [\"Adventure\", \"Drama\", \"Fantasy\"],\n",
    "        \"Ratings\": 8.9\n",
    "    },\n",
    "    {\n",
    "        \"Title\": \"Forrest Gump\",\n",
    "        \"Year Produced\": 1994,\n",
    "        \"Actors\": [\"Tom Hanks\", \"Robin Wright\", \"Sally Field\"],\n",
    "        \"Directors\": [\"Robert Zemeckis\"],\n",
    "        \"Genres\": [\"Drama\", \"Romance\"],\n",
    "        \"Ratings\": 8.8\n",
    "    },\n",
    "    {\n",
    "        \"Title\": \"Inception\",\n",
    "        \"Year Produced\": 2010,\n",
    "        \"Actors\": [\"Leonardo DiCaprio\", \"Joseph Gordon-Levitt\", \"Ellen Page\"],\n",
    "        \"Directors\": [\"Christopher Nolan\"],\n",
    "        \"Genres\": [\"Action\", \"Adventure\", \"Sci-Fi\"],\n",
    "        \"Ratings\": 8.8\n",
    "    }\n",
    "]\n",
    "\n",
    "input_facts = dt.FactList()\n",
    "\n",
    "for data in input_data:\n",
    "    movie = dt.Entity(name=data[\"Title\"], label=\"Movie\")\n",
    "    year = dt.Entity(name=str(data[\"Year Produced\"]), label=\"Year\")\n",
    "    input_facts.facts.append(dt.Fact(subj=movie, rel=dt.Relationship(name=\"Produced in\"), obj=year))\n",
    "    for actor in data[\"Actors\"]:\n",
    "        actor_entity = dt.Entity(name=actor, label=\"Actor\")\n",
    "        input_facts.facts.append(dt.Fact(subj=actor_entity, rel=dt.Relationship(name=\"Played in\"), obj=movie))\n",
    "    for director in data[\"Directors\"]:\n",
    "        director_entity = dt.Entity(name=actor, label=\"Director\")\n",
    "        input_facts.facts.append(dt.Fact(subj=movie, rel=dt.Relationship(name=\"Directed by\"), obj=director_entity))\n",
    "    for genre in data[\"Genres\"]:\n",
    "        genre_entity = dt.Entity(name=genre, label=\"Genre\")\n",
    "        input_facts.facts.append(dt.Fact(subj=movie, rel=dt.Relationship(name=\"Has genre\"), obj=genre_entity))\n",
    "    rating = dt.Entity(name=str(data[\"Ratings\"]), label=\"Ratings\")\n",
    "    input_facts.facts.append(dt.Fact(subj=movie, rel=dt.Relationship(name=\"Has ratings of\"), obj=rating))"
   ]
  },
  {
   "cell_type": "code",
   "execution_count": 2,
   "metadata": {},
   "outputs": [
    {
     "name": "stdout",
     "output_type": "stream",
     "text": [
      "test_program_memory.html\n"
     ]
    }
   ],
   "source": [
    "from hybridagi.memory.integration.local import LocalFactMemory\n",
    "\n",
    "fact_memory = LocalFactMemory(index_name=\"test\")\n",
    "fact_memory.update(input_facts)\n",
    "\n",
    "fact_memory.show()"
   ]
  },
  {
   "cell_type": "markdown",
   "metadata": {},
   "source": [
    "#### A simple pipeline: deduplicating entities\n",
    "\n",
    "You will notice that each graph created by our input data are not connected, this arise when the entities are duplicated. To solve this issue, we are going to apply a very simple pipeline with one step that deduplicate the entities using their names and labels."
   ]
  },
  {
   "cell_type": "code",
   "execution_count": 3,
   "metadata": {},
   "outputs": [
    {
     "ename": "AttributeError",
     "evalue": "ExactMatch",
     "output_type": "error",
     "traceback": [
      "\u001b[0;31m---------------------------------------------------------------------------\u001b[0m",
      "\u001b[0;31mAttributeError\u001b[0m                            Traceback (most recent call last)",
      "Cell \u001b[0;32mIn[3], line 6\u001b[0m\n\u001b[1;32m      2\u001b[0m \u001b[38;5;28;01mfrom\u001b[39;00m \u001b[38;5;21;01mhybridagi\u001b[39;00m\u001b[38;5;21;01m.\u001b[39;00m\u001b[38;5;21;01mmodules\u001b[39;00m\u001b[38;5;21;01m.\u001b[39;00m\u001b[38;5;21;01mdeduplicator\u001b[39;00m\u001b[38;5;21;01m.\u001b[39;00m\u001b[38;5;21;01mentity_deduplicator\u001b[39;00m \u001b[38;5;28;01mimport\u001b[39;00m EntityDeduplicator\n\u001b[1;32m      4\u001b[0m pipeline \u001b[38;5;241m=\u001b[39m Pipeline()\n\u001b[0;32m----> 6\u001b[0m pipeline\u001b[38;5;241m.\u001b[39madd(\u001b[38;5;124m\"\u001b[39m\u001b[38;5;124mdeduplicate_entities\u001b[39m\u001b[38;5;124m\"\u001b[39m, \u001b[43mEntityDeduplicator\u001b[49m\u001b[43m(\u001b[49m\u001b[43mmethod\u001b[49m\u001b[38;5;241;43m=\u001b[39;49m\u001b[38;5;124;43m\"\u001b[39;49m\u001b[38;5;124;43mexact_match\u001b[39;49m\u001b[38;5;124;43m\"\u001b[39;49m\u001b[43m)\u001b[49m)\n\u001b[1;32m      8\u001b[0m output_facts \u001b[38;5;241m=\u001b[39m pipeline(input_facts)\n\u001b[1;32m     10\u001b[0m fact_memory\u001b[38;5;241m.\u001b[39mclear() \u001b[38;5;66;03m# We clean up the previous graph\u001b[39;00m\n",
      "File \u001b[0;32m~/Workspace/HybridAGI/hybridagi/modules/deduplicator/entity_deduplicator.py:32\u001b[0m, in \u001b[0;36mEntityDeduplicator.__init__\u001b[0;34m(self, method, embeddings, embeddings_distance, fuzzy_distance, max_distance)\u001b[0m\n\u001b[1;32m     24\u001b[0m \u001b[38;5;28;01mdef\u001b[39;00m \u001b[38;5;21m__init__\u001b[39m(\n\u001b[1;32m     25\u001b[0m         \u001b[38;5;28mself\u001b[39m,\n\u001b[1;32m     26\u001b[0m         method: \u001b[38;5;28mstr\u001b[39m \u001b[38;5;241m=\u001b[39m \u001b[38;5;124m\"\u001b[39m\u001b[38;5;124mexact\u001b[39m\u001b[38;5;124m\"\u001b[39m,\n\u001b[0;32m   (...)\u001b[0m\n\u001b[1;32m     30\u001b[0m         max_distance: \u001b[38;5;28mfloat\u001b[39m \u001b[38;5;241m=\u001b[39m \u001b[38;5;241m0.7\u001b[39m,\n\u001b[1;32m     31\u001b[0m     ):\n\u001b[0;32m---> 32\u001b[0m     \u001b[38;5;28;01mif\u001b[39;00m method \u001b[38;5;241m!=\u001b[39m \u001b[43mMethod\u001b[49m\u001b[38;5;241;43m.\u001b[39;49m\u001b[43mExactMatch\u001b[49m \u001b[38;5;129;01mand\u001b[39;00m method \u001b[38;5;241m!=\u001b[39m Method\u001b[38;5;241m.\u001b[39mEmbeddings \u001b[38;5;129;01mand\u001b[39;00m method \u001b[38;5;241m!=\u001b[39m Method\u001b[38;5;241m.\u001b[39mFuzzy:\n\u001b[1;32m     33\u001b[0m         \u001b[38;5;28;01mraise\u001b[39;00m \u001b[38;5;167;01mValueError\u001b[39;00m(\u001b[38;5;124mf\u001b[39m\u001b[38;5;124m\"\u001b[39m\u001b[38;5;124mInvalid method for \u001b[39m\u001b[38;5;132;01m{\u001b[39;00m\u001b[38;5;28mtype\u001b[39m(\u001b[38;5;28mself\u001b[39m)\u001b[38;5;241m.\u001b[39m\u001b[38;5;18m__name__\u001b[39m\u001b[38;5;132;01m}\u001b[39;00m\u001b[38;5;124m should be exact or embeddings or fuzzy\u001b[39m\u001b[38;5;124m\"\u001b[39m)\n\u001b[1;32m     34\u001b[0m     \u001b[38;5;28;01mif\u001b[39;00m method \u001b[38;5;241m==\u001b[39m Method\u001b[38;5;241m.\u001b[39mEmbeddings:\n",
      "File \u001b[0;32m/usr/lib/python3.10/enum.py:437\u001b[0m, in \u001b[0;36mEnumMeta.__getattr__\u001b[0;34m(cls, name)\u001b[0m\n\u001b[1;32m    435\u001b[0m     \u001b[38;5;28;01mreturn\u001b[39;00m \u001b[38;5;28mcls\u001b[39m\u001b[38;5;241m.\u001b[39m_member_map_[name]\n\u001b[1;32m    436\u001b[0m \u001b[38;5;28;01mexcept\u001b[39;00m \u001b[38;5;167;01mKeyError\u001b[39;00m:\n\u001b[0;32m--> 437\u001b[0m     \u001b[38;5;28;01mraise\u001b[39;00m \u001b[38;5;167;01mAttributeError\u001b[39;00m(name) \u001b[38;5;28;01mfrom\u001b[39;00m \u001b[38;5;28;01mNone\u001b[39;00m\n",
      "\u001b[0;31mAttributeError\u001b[0m: ExactMatch"
     ]
    }
   ],
   "source": [
    "from hybridagi.core.pipeline import Pipeline\n",
    "from hybridagi.modules.deduplicator.entity_deduplicator import EntityDeduplicator\n",
    "\n",
    "pipeline = Pipeline()\n",
    "\n",
    "pipeline.add(\"deduplicate_entities\", EntityDeduplicator(method=\"exact\"))\n",
    "\n",
    "output_facts = pipeline(input_facts)\n",
    "\n",
    "fact_memory.clear() # We clean up the previous graph\n",
    "\n",
    "fact_memory.update(output_facts) # And populate it with our cleaned data\n",
    "\n",
    "fact_memory.show()"
   ]
  }
 ],
 "metadata": {
  "kernelspec": {
   "display_name": "hybridagi-B1GoJrSC-py3.10",
   "language": "python",
   "name": "python3"
  },
  "language_info": {
   "codemirror_mode": {
    "name": "ipython",
    "version": 3
   },
   "file_extension": ".py",
   "mimetype": "text/x-python",
   "name": "python",
   "nbconvert_exporter": "python",
   "pygments_lexer": "ipython3",
   "version": "3.10.12"
  }
 },
 "nbformat": 4,
 "nbformat_minor": 2
}
