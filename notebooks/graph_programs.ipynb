{
 "cells": [
  {
   "cell_type": "markdown",
   "metadata": {},
   "source": [
    "## Graph programs\n",
    "\n",
    "The Graph Programs are a special data type representing a workflow of actions and decisions with calls to other programs. They are used by our own custom Agent, the `GraphProgramInterpreter`. In order help you to build them, we provide two ways of doing it: Using Python or Cypher."
   ]
  },
  {
   "cell_type": "code",
   "execution_count": 1,
   "metadata": {},
   "outputs": [
    {
     "name": "stderr",
     "output_type": "stream",
     "text": [
      "/home/yoan/.cache/pypoetry/virtualenvs/hybridagi-B1GoJrSC-py3.10/lib/python3.10/site-packages/tqdm/auto.py:21: TqdmWarning: IProgress not found. Please update jupyter and ipywidgets. See https://ipywidgets.readthedocs.io/en/stable/user_install.html\n",
      "  from .autonotebook import tqdm as notebook_tqdm\n"
     ]
    },
    {
     "name": "stdout",
     "output_type": "stream",
     "text": [
      "// @desc: The main program\n",
      "CREATE\n",
      "// Nodes declaration\n",
      "(start:Control {id: \"start\"}),\n",
      "(end:Control {id: \"end\"}),\n",
      "(answer:Action {\n",
      "  id: \"answer\",\n",
      "  purpose: \"Answer the Objective's question\",\n",
      "  tool: \"Speak\",\n",
      "  prompt: \"Please answer to the Objective's question\"\n",
      "}),\n",
      "// Structure declaration\n",
      "(start)-[:NEXT]->(answer),\n",
      "(answer)-[:NEXT]->(end)\n"
     ]
    }
   ],
   "source": [
    "import hybridagi.core.graph_program as gp\n",
    "\n",
    "main = gp.GraphProgram(\n",
    "\tname = \"main\",\n",
    "\tdescription = \"The main program\",\n",
    ")\n",
    "\n",
    "main.add(gp.Action(\n",
    "    id = \"answer\",\n",
    "\ttool = \"Speak\",\n",
    "\tpurpose = \"Answer the Objective's question\",\n",
    "\tprompt = \"Please answer to the Objective's question\",\n",
    "))\n",
    "\n",
    "main.connect(\"start\", \"answer\")\n",
    "main.connect(\"answer\", \"end\")\n",
    "\n",
    "# We build the program to verify its structure\n",
    "main.build()\n",
    "\n",
    "# Let's see what this program look like\n",
    "print(main)"
   ]
  },
  {
   "cell_type": "code",
   "execution_count": 2,
   "metadata": {},
   "outputs": [
    {
     "name": "stdout",
     "output_type": "stream",
     "text": [
      "main.html\n"
     ]
    }
   ],
   "source": [
    "# Or we can visualize it using pyvis\n",
    "\n",
    "# Use notebook=False if you are running in a local settings and want to open a browser page\n",
    "main.show()\n",
    "\n",
    "# You can even save it as a cypher file\n",
    "\n",
    "main.save()"
   ]
  },
  {
   "cell_type": "markdown",
   "metadata": {},
   "source": [
    "### Using decision-making steps\n",
    "\n",
    "Decision making steps allow the model to branch over different paths in a program, like conditions in traditional programming, they allow conditional loops and multi-output decisions."
   ]
  },
  {
   "cell_type": "code",
   "execution_count": 3,
   "metadata": {},
   "outputs": [
    {
     "name": "stdout",
     "output_type": "stream",
     "text": [
      "// @desc: The main program\n",
      "CREATE\n",
      "// Nodes declaration\n",
      "(start:Control {id: \"start\"}),\n",
      "(end:Control {id: \"end\"}),\n",
      "(is_objective_unclear:Decision {\n",
      "  id: \"is_objective_unclear\",\n",
      "  purpose: \"Check if the Objective's is unclear\",\n",
      "  question: \"Is the Objective's question unclear?\"\n",
      "}),\n",
      "(clarify:Action {\n",
      "  id: \"clarify\",\n",
      "  purpose: \"Ask one question to clarify the user's Objective\",\n",
      "  tool: \"AskUser\",\n",
      "  prompt: \"Please pick one question to clarify the Objective's question\"\n",
      "}),\n",
      "(answer:Action {\n",
      "  id: \"answer\",\n",
      "  purpose: \"Answer the question\",\n",
      "  tool: \"Speak\",\n",
      "  prompt: \"Please answer to the Objective's question\"\n",
      "}),\n",
      "(refine_objective:Action {\n",
      "  id: \"refine_objective\",\n",
      "  purpose: \"Refine the objective\",\n",
      "  tool: \"UpdateObjective\",\n",
      "  prompt: \"Please refine the user Objective\"\n",
      "}),\n",
      "// Structure declaration\n",
      "(start)-[:NEXT]->(is_objective_unclear),\n",
      "(is_objective_unclear)-[:CLARIFY]->(clarify),\n",
      "(is_objective_unclear)-[:ANSWER]->(answer),\n",
      "(clarify)-[:NEXT]->(refine_objective),\n",
      "(answer)-[:NEXT]->(end),\n",
      "(refine_objective)-[:NEXT]->(answer)\n"
     ]
    }
   ],
   "source": [
    "main = gp.GraphProgram(\n",
    "    name=\"main\",\n",
    "    description=\"The main program\",\n",
    ")\n",
    "    \n",
    "main.add(gp.Decision(\n",
    "    id=\"is_objective_unclear\",\n",
    "    purpose=\"Check if the Objective's is unclear\",\n",
    "    question=\"Is the Objective's question unclear?\",\n",
    "))\n",
    "\n",
    "main.add(gp.Action(\n",
    "    id=\"clarify\",\n",
    "    purpose=\"Ask one question to clarify the user's Objective\",\n",
    "    tool=\"AskUser\",\n",
    "    prompt=\"Please pick one question to clarify the Objective's question\",\n",
    "))\n",
    "\n",
    "main.add(gp.Action(\n",
    "    id=\"answer\",\n",
    "    purpose=\"Answer the question\",\n",
    "    tool=\"Speak\",\n",
    "    prompt=\"Please answer to the Objective's question\",\n",
    "))\n",
    "    \n",
    "main.add(gp.Action(\n",
    "    id=\"refine_objective\",\n",
    "    purpose=\"Refine the objective\",\n",
    "    tool=\"UpdateObjective\",\n",
    "    prompt=\"Please refine the user Objective\",\n",
    "))\n",
    "    \n",
    "main.connect(\"start\", \"is_objective_unclear\")\n",
    "main.connect(\"is_objective_unclear\", \"clarify\", label=\"Clarify\")\n",
    "main.connect(\"is_objective_unclear\", \"answer\", label=\"Answer\")\n",
    "main.connect(\"clarify\", \"refine_objective\")\n",
    "main.connect(\"refine_objective\", \"answer\")\n",
    "main.connect(\"answer\", \"end\")\n",
    "\n",
    "main.build()\n",
    "\n",
    "print(main)"
   ]
  },
  {
   "cell_type": "code",
   "execution_count": 4,
   "metadata": {},
   "outputs": [
    {
     "name": "stdout",
     "output_type": "stream",
     "text": [
      "main.html\n"
     ]
    }
   ],
   "source": [
    "# Or we can check it using pyvis like above\n",
    "\n",
    "main.show()"
   ]
  },
  {
   "cell_type": "markdown",
   "metadata": {},
   "source": [
    "#### Using Program calls\n",
    "\n",
    "Using sub-programs is an important feature of HybridAGI, their are used to allow the graph programs to scale the numerous steps for long tasks, help the developer encapsulate behaviors and allow the system to adapt and learn by being able to dynamically call or modify them."
   ]
  },
  {
   "cell_type": "code",
   "execution_count": 5,
   "metadata": {},
   "outputs": [],
   "source": [
    "\n",
    "clarify_objective = gp.GraphProgram(\n",
    "    name=\"clarify_objective\",\n",
    "    description=\"Clarify the objective by asking question to the user\",\n",
    ")\n",
    "\n",
    "clarify_objective.add(gp.Decision(\n",
    "    id = \"is_anything_unclear\",\n",
    "    purpose = \"Check if the Objective is unclear\",\n",
    "    question = \"Is the Objective still unclear?\",\n",
    "))\n",
    "\n",
    "clarify_objective.add(gp.Action(\n",
    "    id = \"clarify\",\n",
    "    purpose = \"Ask question to clarify the user request\",\n",
    "    tool = \"AskUser\",\n",
    "    prompt = \"Pick one question to clarify the Objective\",\n",
    "))\n",
    "\n",
    "clarify_objective.add(gp.Action(\n",
    "    id = \"refine_objective\",\n",
    "    purpose = \"Refine the question\",\n",
    "    tool = \"UpdateObjective\",\n",
    "    prompt = \"Refine the Objective\",\n",
    "))\n",
    "\n",
    "clarify_objective.connect(\"start\", \"is_anything_unclear\")\n",
    "clarify_objective.connect(\"is_anything_unclear\", \"clarify\", label=\"Clarify\")\n",
    "clarify_objective.connect(\"is_anything_unclear\", \"end\", label=\"Answer\")\n",
    "clarify_objective.connect(\"clarify\", \"refine_objective\")\n",
    "clarify_objective.connect(\"refine_objective\", \"end\")\n",
    "\n",
    "clarify_objective.build()\n",
    "\n",
    "main = gp.GraphProgram(\n",
    "    name=\"main\",\n",
    "    description=\"The main program\",\n",
    ")\n",
    "\n",
    "main.add(gp.Program(\n",
    "    id = \"clarify_objective\",\n",
    "    purpose = \"Clarify the user objective if needed\",\n",
    "    program = \"clarify_objective\"\n",
    "))\n",
    "\n",
    "main.add(gp.Action(\n",
    "    id = \"answer\",\n",
    "    purpose = \"Answer the objective's question\",\n",
    "    tool = \"Speak\",\n",
    "    prompt = \"Answer the Objective's question\",\n",
    "))\n",
    "\n",
    "main.connect(\"start\", \"clarify_objective\")\n",
    "main.connect(\"clarify_objective\", \"answer\")\n",
    "main.connect(\"answer\", \"end\")\n",
    "\n",
    "main.build()\n"
   ]
  },
  {
   "cell_type": "markdown",
   "metadata": {},
   "source": [
    "#### Note on graph program validation\n",
    "\n",
    "Although we verify the structure of the program, we cannot verify if the name of tool used is accurate or if the program referenced is correct outside of the execution environment. This implies that you should be cautious in using the appropriate names, otherwise, the interpreter Agent will generate an error when it encounters the problematic step."
   ]
  },
  {
   "cell_type": "markdown",
   "metadata": {},
   "source": [
    "#### Loading from Cypher\n",
    "\n",
    "You can also load your programs from cypher, this option is interesting for people with Cypher experience or to load many programs as once."
   ]
  },
  {
   "cell_type": "code",
   "execution_count": 6,
   "metadata": {},
   "outputs": [
    {
     "name": "stdout",
     "output_type": "stream",
     "text": [
      "// @desc: The main program\n",
      "CREATE\n",
      "// Nodes declaration\n",
      "(start:Control {id: \"start\"}),\n",
      "(end:Control {id: \"end\"}),\n",
      "(answer:Action {\n",
      "  id: \"answer\",\n",
      "  purpose: \"Answer the Objective's question\",\n",
      "  tool: \"Speak\",\n",
      "  prompt: \"Please answer to the Objective's question\"\n",
      "}),\n",
      "// Structure declaration\n",
      "(start)-[:NEXT]->(answer),\n",
      "(answer)-[:NEXT]->(end)\n"
     ]
    }
   ],
   "source": [
    "from hybridagi.readers import GraphProgramReader\n",
    "\n",
    "reader = GraphProgramReader()\n",
    "\n",
    "main = reader(\"main.cypher\")\n",
    "\n",
    "print(main)\n",
    "\n",
    "# You can then load it into the program memory as usual"
   ]
  }
 ],
 "metadata": {
  "kernelspec": {
   "display_name": "hybridagi-B1GoJrSC-py3.10",
   "language": "python",
   "name": "python3"
  },
  "language_info": {
   "codemirror_mode": {
    "name": "ipython",
    "version": 3
   },
   "file_extension": ".py",
   "mimetype": "text/x-python",
   "name": "python",
   "nbconvert_exporter": "python",
   "pygments_lexer": "ipython3",
   "version": "3.10.12"
  }
 },
 "nbformat": 4,
 "nbformat_minor": 2
}
