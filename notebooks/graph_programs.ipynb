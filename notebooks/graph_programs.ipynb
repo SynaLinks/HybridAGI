{
 "cells": [
  {
   "cell_type": "markdown",
   "metadata": {},
   "source": [
    "## Graph programs\n",
    "\n",
    "The Graph Programs are a special data type representing a workflow of actions and decisions with calls to other programs. They are used by our own custom Agent, the `GraphProgramInterpreter`. In order help you to build them, we provide two ways of doing it: Using Python or Cypher."
   ]
  },
  {
   "cell_type": "code",
   "execution_count": 1,
   "metadata": {},
   "outputs": [
    {
     "name": "stderr",
     "output_type": "stream",
     "text": [
      "/home/yoan/.cache/pypoetry/virtualenvs/hybridagi-B1GoJrSC-py3.10/lib/python3.10/site-packages/tqdm/auto.py:21: TqdmWarning: IProgress not found. Please update jupyter and ipywidgets. See https://ipywidgets.readthedocs.io/en/stable/user_install.html\n",
      "  from .autonotebook import tqdm as notebook_tqdm\n"
     ]
    },
    {
     "name": "stdout",
     "output_type": "stream",
     "text": [
      "// @desc: The main program\n",
      "CREATE\n",
      "// Nodes declaration\n",
      "(start:Control {purpose: \"Start\"}),\n",
      "(end:Control {purpose: \"End\"}),\n",
      "(answer:Action {\n",
      "  purpose: \"Answer the user question\",\n",
      "  tool: \"Speak\",\n",
      "  prompt: \"Please answer to the following question: {{objective}}\",\n",
      "  inputs: [\n",
      "    \"objective\"\n",
      "  ]\n",
      "}),\n",
      "// Structure declaration\n",
      "(start)-[:NEXT]->(answer),\n",
      "(answer)-[:NEXT]->(end)\n"
     ]
    }
   ],
   "source": [
    "import hybridagi.core.graph_program as gp\n",
    "\n",
    "main = gp.GraphProgram(\n",
    "\tname = \"main\",\n",
    "\tdescription = \"The main program\",\n",
    ")\n",
    "\n",
    "main.add(\"answer\", gp.Action(\n",
    "\ttool = \"Speak\",\n",
    "\tpurpose = \"Answer the user question\",\n",
    "\tprompt = \"Please answer to the following question: {{objective}}\",\n",
    "\tinputs = [\"objective\"],\n",
    "\touput = \"answer\",\n",
    "))\n",
    "\n",
    "main.connect(\"start\", \"answer\")\n",
    "main.connect(\"answer\", \"end\")\n",
    "\n",
    "# We build the program to verify its structure\n",
    "main.build()\n",
    "\n",
    "# We can convert it to the cypher representation\n",
    "print(main.to_cypher())"
   ]
  },
  {
   "cell_type": "code",
   "execution_count": 2,
   "metadata": {},
   "outputs": [
    {
     "name": "stdout",
     "output_type": "stream",
     "text": [
      "main.html\n"
     ]
    }
   ],
   "source": [
    "# Or we can visualize it using pyvis\n",
    "\n",
    "# Use notebook=False if you are running in a local settings and want to open a browser page\n",
    "main.show(notebook=False)"
   ]
  },
  {
   "cell_type": "markdown",
   "metadata": {},
   "source": [
    "### Using decision-making steps\n",
    "\n",
    "Decision making steps allow the model to branch over different paths in a program, like conditions in traditional programming, it allow conditional loops and multi-output decisions."
   ]
  },
  {
   "cell_type": "code",
   "execution_count": 3,
   "metadata": {},
   "outputs": [
    {
     "name": "stdout",
     "output_type": "stream",
     "text": [
      "// @desc: The main program\n",
      "CREATE\n",
      "// Nodes declaration\n",
      "(start:Control {purpose: \"Start\"}),\n",
      "(end:Control {purpose: \"End\"}),\n",
      "(is_objective_unclear:Decision {\n",
      "  purpose: \"Check if the question needs clarification or not\",\n",
      "  prompt: \"Is the following question unclear?\\n{{question}}\",\n",
      "  inputs: [\n",
      "    \"objective\"\n",
      "  ]\n",
      "}),\n",
      "(clarify:Action {\n",
      "  purpose: \"Ask one question to clarify the user's objective\",\n",
      "  tool: \"AskUser\",\n",
      "  prompt: \"Please pick one question to clarify the following: {{objective}}\",\n",
      "  inputs: [\n",
      "    \"objective\"\n",
      "  ],\n",
      "  output: \"clarification\"\n",
      "}),\n",
      "(answer:Action {\n",
      "  purpose: \"Answer the question\",\n",
      "  tool: \"Speak\",\n",
      "  prompt: \"Please answer to the following question: {{objective}}\",\n",
      "  inputs: [\n",
      "    \"objective\"\n",
      "  ]\n",
      "}),\n",
      "(refine_objective:Action {\n",
      "  purpose: \"Refine the objective\",\n",
      "  tool: \"Predict\",\n",
      "  prompt: \"You asked the following question:\\nQuestion: {{clarification}}\\n\\nPlease refine the following objective:\\nObjective: {{objective}}\",\n",
      "  inputs: [\n",
      "    \"objective\",\n",
      "    \"clarification\"\n",
      "  ],\n",
      "  output: \"objective\"\n",
      "}),\n",
      "// Structure declaration\n",
      "(start)-[:NEXT]->(is_objective_unclear),\n",
      "(is_objective_unclear)-[:CLARIFY]->(clarify),\n",
      "(is_objective_unclear)-[:ANSWER]->(answer),\n",
      "(clarify)-[:NEXT]->(refine_objective),\n",
      "(answer)-[:NEXT]->(end),\n",
      "(refine_objective)-[:NEXT]->(answer)\n"
     ]
    }
   ],
   "source": [
    "main = gp.GraphProgram(\n",
    "    name=\"main\",\n",
    "    description=\"The main program\",\n",
    ")\n",
    "    \n",
    "main.add(\"is_objective_unclear\", gp.Decision(\n",
    "    purpose=\"Check if the question needs clarification or not\",\n",
    "    prompt=\"Is the following question unclear?\\n{{question}}\",\n",
    "    inputs=[\"objective\"],\n",
    "))\n",
    "\n",
    "main.add(\"clarify\", gp.Action(\n",
    "    purpose=\"Ask one question to clarify the user's objective\",\n",
    "    tool=\"AskUser\",\n",
    "    prompt=\"Please pick one question to clarify the following: {{objective}}\",\n",
    "    inputs=[\"objective\"],\n",
    "    output=\"clarification\"\n",
    "))\n",
    "\n",
    "main.add(\"answer\", gp.Action(\n",
    "    purpose=\"Answer the question\",\n",
    "    tool=\"Speak\",\n",
    "    prompt=\"Please answer to the following question: {{objective}}\",\n",
    "    inputs=[\"objective\"],\n",
    "))\n",
    "    \n",
    "main.add(\"refine_objective\", gp.Action(\n",
    "    purpose=\"Refine the objective\",\n",
    "    tool=\"Predict\",\n",
    "    prompt= \\\n",
    "\"\"\"You asked the following question:\n",
    "Question: {{clarification}}\n",
    "\n",
    "Please refine the following objective:\n",
    "Objective: {{objective}}\"\"\",\n",
    "    inputs=[\"objective\", \"clarification\"],\n",
    "    output=\"objective\"\n",
    "))\n",
    "    \n",
    "main.connect(\"start\", \"is_objective_unclear\")\n",
    "main.connect(\"is_objective_unclear\", \"clarify\", label=\"Clarify\")\n",
    "main.connect(\"is_objective_unclear\", \"answer\", label=\"Answer\")\n",
    "main.connect(\"clarify\", \"refine_objective\")\n",
    "main.connect(\"refine_objective\", \"answer\")\n",
    "main.connect(\"answer\", \"end\")\n",
    "\n",
    "main.build()\n",
    "\n",
    "print(main.to_cypher())"
   ]
  },
  {
   "cell_type": "code",
   "execution_count": 4,
   "metadata": {},
   "outputs": [
    {
     "name": "stdout",
     "output_type": "stream",
     "text": [
      "main.html\n"
     ]
    }
   ],
   "source": [
    "# Or we can check it using pyvis like above\n",
    "\n",
    "main.show()"
   ]
  },
  {
   "cell_type": "markdown",
   "metadata": {},
   "source": [
    "#### Using Program calls\n",
    "\n",
    "Using sub-programs is an important feature of HybridAGI, their are used to allow the graph programs to scale the numerous steps for long tasks, help the developer encapsulate behaviors and allow the system to adapt and learn by being able to dynamically call them or modify them.\n",
    "\n",
    "In this example "
   ]
  },
  {
   "cell_type": "code",
   "execution_count": 5,
   "metadata": {},
   "outputs": [
    {
     "name": "stdout",
     "output_type": "stream",
     "text": [
      "// @desc: The main program\n",
      "CREATE\n",
      "// Nodes declaration\n",
      "(start:Control {purpose: \"Start\"}),\n",
      "(end:Control {purpose: \"End\"}),\n",
      "(clarify_objective:Program {\n",
      "  purpose: \"Clarify the user objective if needed\",\n",
      "  program: \"clarify_objective\",\n",
      "  prompt: \"{{objective}}\",\n",
      "  inputs: [\n",
      "    \"objective\"\n",
      "  ]\n",
      "}),\n",
      "(answer:Action {\n",
      "  purpose: \"Answer the objective's question\",\n",
      "  tool: \"Speak\",\n",
      "  prompt: \"Answer the following question: {{objective}}\"\n",
      "}),\n",
      "// Structure declaration\n",
      "(start)-[:NEXT]->(clarify_objective),\n",
      "(clarify_objective)-[:NEXT]->(answer),\n",
      "(answer)-[:NEXT]->(end)\n"
     ]
    }
   ],
   "source": [
    "\n",
    "clarify_objective = gp.GraphProgram(\n",
    "    name=\"clarify_objective\",\n",
    "    description=\"Clarify the objective by asking question to the user\",\n",
    ")\n",
    "\n",
    "clarify_objective.add(\"is_anything_unclear\", gp.Decision(\n",
    "    purpose = \"Check if the question is unclear\",\n",
    "    prompt = \"Is the following question '{{objective}}' still unclear?\",\n",
    "    inputs = [\"objective\"],\n",
    "))\n",
    "\n",
    "clarify_objective.add(\"ask_question\", gp.Action(\n",
    "    purpose = \"Ask question to clarify the user request\",\n",
    "    tool = \"AskUser\",\n",
    "    prompt = \"Pick one question to clarify the following user request: {{objective}}\",\n",
    "    inputs = [\"objective\"],\n",
    "    output = \"clarification\",\n",
    "))\n",
    "\n",
    "clarify_objective.add(\"refine_objective\", gp.Action(\n",
    "    purpose = \"Refine the question\",\n",
    "    tool = \"Predict\",\n",
    "    prompt = \"Refine the following '{{question}}' based on the clarfication step: {{clarification}}\",\n",
    "    inputs = [\"objective\", \"clarification\"],\n",
    "    output = \"objective\",\n",
    "))\n",
    "\n",
    "clarify_objective.connect(\"start\", \"is_anything_unclear\")\n",
    "clarify_objective.connect(\"ask_question\", \"refine_objective\")\n",
    "clarify_objective.connect(\"is_anything_unclear\", \"ask_question\", label=\"Clarify\")\n",
    "clarify_objective.connect(\"is_anything_unclear\", \"end\", label=\"Answer\")\n",
    "clarify_objective.connect(\"refine_objective\", \"end\")\n",
    "\n",
    "clarify_objective.build()\n",
    "\n",
    "main = gp.GraphProgram(\n",
    "    name=\"main\",\n",
    "    description=\"The main program\",\n",
    ")\n",
    "\n",
    "main.add(\"clarify_objective\", gp.Program(\n",
    "    purpose = \"Clarify the user objective if needed\",\n",
    "    prompt = \"{{objective}}\",\n",
    "    inputs = [\"objective\"],\n",
    "    program = \"clarify_objective\"\n",
    "))\n",
    "\n",
    "main.add(\"answer\", gp.Action(\n",
    "    purpose = \"Answer the objective's question\",\n",
    "    tool = \"Speak\",\n",
    "    prompt = \"Answer the following question: {{objective}}\",\n",
    "))\n",
    "\n",
    "main.connect(\"start\", \"clarify_objective\")\n",
    "main.connect(\"clarify_objective\", \"answer\")\n",
    "main.connect(\"answer\", \"end\")\n",
    "\n",
    "main.build()\n",
    "\n",
    "print(main.to_cypher())"
   ]
  },
  {
   "cell_type": "markdown",
   "metadata": {},
   "source": [
    "#### Note on graph program validation\n",
    "\n",
    "Although we verify the structure of the program, we cannot confirm if the tool used is accurate or if the program referenced is correct outside of the execution environment. This implies that you should be cautious in using the appropriate names, otherwise, the interpreter Agent will generate an error when it encounters the problematic step."
   ]
  },
  {
   "cell_type": "markdown",
   "metadata": {},
   "source": [
    "#### Loading from Cypher\n",
    "\n",
    "You can also load your programs from cypher, "
   ]
  }
 ],
 "metadata": {
  "kernelspec": {
   "display_name": "hybridagi-B1GoJrSC-py3.10",
   "language": "python",
   "name": "python3"
  },
  "language_info": {
   "codemirror_mode": {
    "name": "ipython",
    "version": 3
   },
   "file_extension": ".py",
   "mimetype": "text/x-python",
   "name": "python",
   "nbconvert_exporter": "python",
   "pygments_lexer": "ipython3",
   "version": "3.10.12"
  }
 },
 "nbformat": 4,
 "nbformat_minor": 2
}
