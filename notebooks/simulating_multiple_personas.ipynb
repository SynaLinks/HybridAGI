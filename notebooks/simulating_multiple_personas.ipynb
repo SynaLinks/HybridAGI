{
 "cells": [
  {
   "cell_type": "markdown",
   "metadata": {},
   "source": [
    "# Simulating Multiple Personas\n",
    "\n",
    "An interesting usecase of HybridAGI is the simulation of multiple user personas. This can be used in numerous applications, from simulating the prospect of a product to generate synthetic data in order to train LLMs.\n",
    "\n",
    "To do so, we can specify a user profile in the input `Query` of the Agent by adding an `InteractionSession` the datatype that contains the chat history and user profile with the help of `QueryWithSession`."
   ]
  },
  {
   "cell_type": "code",
   "execution_count": null,
   "metadata": {},
   "outputs": [],
   "source": [
    "\n",
    "personas = [\n",
    "    \"John Doe is a 35-year-old software engineer who works for a tech startup. He is tech-savvy and enjoys experimenting with new technologies. John is always looking for ways to optimize his workflow and improve his productivity.\",\n",
    "    \"Jane Smith is a 28-year-old marketing manager at a digital agency. She is creative and loves brainstorming new campaign ideas. Jane is also very organized and uses various tools to manage her team's projects efficiently.\",\n",
    "    \"Emily Johnson is a 40-year-old small business owner who runs a local bakery. She is passionate about baking and customer service. Emily is always looking for ways to grow her business and improve her online presence.\",\n",
    "    \"Michael Brown is a 55-year-old financial analyst at a large corporation. He is detail-oriented and enjoys working with numbers. Michael is also interested in personal finance and investing.\",\n",
    "    \"Sarah Lee\": \"Sarah Lee is a 32-year-old freelance graphic designer who works from home. She is artistic and loves creating visually appealing designs. Sarah is also very disciplined and manages her time effectively to meet client deadlines.\",\n",
    "]\n",
    "\n",
    "objective = \"\"\"\n",
    "Your objective is to sell the following product:\n",
    "\n",
    "Product Name: SmartHome Guardian\n",
    "\n",
    "Description:\n",
    "SmartHome Guardian is an innovative home security system designed to provide comprehensive protection for your home and family.\n",
    "It features advanced AI-powered cameras that can distinguish between familiar faces and potential intruders, ensuring that you only receive alerts when necessary.\n",
    "The system also includes smart sensors that detect unusual activity, such as broken windows or unexpected movements, and immediately notify you through a user-friendly mobile app.\n",
    "Additionally, SmartHome Guardian integrates seamlessly with other smart home devices, allowing you to control your lights, locks, and thermostat from a single interface.\n",
    "With its sleek design and robust security features, SmartHome Guardian offers peace of mind and convenience, making it the ultimate solution for modern home security.\n",
    "\"\"\"\n",
    "    \n"
   ]
  }
 ],
 "metadata": {
  "language_info": {
   "name": "python"
  }
 },
 "nbformat": 4,
 "nbformat_minor": 2
}
