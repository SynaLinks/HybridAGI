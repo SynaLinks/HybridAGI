{
 "cells": [
  {
   "cell_type": "markdown",
   "metadata": {},
   "source": [
    "# Working with documents\n",
    "\n",
    "`Document`: Represent an unstructured textual data to be processed or saved into the `DocumentMemory`, it can represent a text, text chunk, table row or a claim (unstructured fact)\n",
    "\n",
    "`DocumentList`: The DSPy type used by data processing modules and memory\n",
    "  \n",
    "```python\n",
    "import dspy\n",
    "from pydantic import BaseModel, Field\n",
    "from typing import Optional, List, Dict\n",
    "\n",
    "class Document(BaseModel):\n",
    "\tid: str = Field(description=\"Unique identifier for the document\", default_factory=uuid4)\n",
    "\ttext: str = Field(description=\"The actual text content of the document\")\n",
    "\tparent_id: str = Field(description=\"Identifier for the parent document\", default=\"\")\n",
    "\tvector: Optional[List[float]] = Field(description=\"Vector representation of the document\", default=None)\n",
    "\tmetadata: Optional[Dict[str, Any]] = Field(description=\"Additional information about the document\", default=None)\n",
    "\n",
    "class DocumentList(BaseModel, dspy.Prediction):\n",
    "\tdocs: List[Document] = Field(description=\"List of documents\", default=[])\n",
    "\n",
    "``` \n"
   ]
  },
  {
   "cell_type": "code",
   "execution_count": 1,
   "metadata": {},
   "outputs": [
    {
     "name": "stdout",
     "output_type": "stream",
     "text": [
      "docs=[Document(id=UUID('1d8e5c34-f770-4299-a18b-de3055b6a720'), text=\"The Catcher in the Rye is a novel by J. D. Salinger, partially published in serial form in 1945–1946 and as a novel in 1951. It is widely considered one of the greatest American novels of the 20th century. The novel's protagonist, Holden Caulfield, has become an icon for teenage rebellion and angst. The novel also deals with complex issues of innocence, identity, belonging, loss, and connection.\", parent_id=None, vector=None, metadata={'title': 'The Catcher in the Rye'}), Document(id=UUID('e92cf071-0bc8-4727-a3f6-755a840890d3'), text=\"To Kill a Mockingbird is a novel by Harper Lee published in 1960. It was immediately successful, winning the Pulitzer Prize, and has become a classic of modern American literature. The plot and characters are loosely based on the author's observations of her family and neighbors, as well as on an event that occurred near her hometown in 1936, when she was 10 years old. The novel is renowned for its sensitivity and depth in addressing racial injustice, class, gender roles, and destruction of innocence.\", parent_id=None, vector=None, metadata={'title': 'To Kill a Mockingbird'})]\n"
     ]
    },
    {
     "name": "stderr",
     "output_type": "stream",
     "text": [
      "/home/yoan/.cache/pypoetry/virtualenvs/hybridagi-B1GoJrSC-py3.10/lib/python3.10/site-packages/tqdm/auto.py:21: TqdmWarning: IProgress not found. Please update jupyter and ipywidgets. See https://ipywidgets.readthedocs.io/en/stable/user_install.html\n",
      "  from .autonotebook import tqdm as notebook_tqdm\n"
     ]
    }
   ],
   "source": [
    "import hybridagi.core.datatypes as dt\n",
    "\n",
    "input_data = [\n",
    "    {\n",
    "        \"title\": \"The Catcher in the Rye\",\n",
    "        \"content\": \"The Catcher in the Rye is a novel by J. D. Salinger, partially published in serial form in 1945–1946 and as a novel in 1951. It is widely considered one of the greatest American novels of the 20th century. The novel's protagonist, Holden Caulfield, has become an icon for teenage rebellion and angst. The novel also deals with complex issues of innocence, identity, belonging, loss, and connection.\"\n",
    "    },\n",
    "    {\n",
    "        \"title\": \"To Kill a Mockingbird\",\n",
    "        \"content\": \"To Kill a Mockingbird is a novel by Harper Lee published in 1960. It was immediately successful, winning the Pulitzer Prize, and has become a classic of modern American literature. The plot and characters are loosely based on the author's observations of her family and neighbors, as well as on an event that occurred near her hometown in 1936, when she was 10 years old. The novel is renowned for its sensitivity and depth in addressing racial injustice, class, gender roles, and destruction of innocence.\"\n",
    "    }\n",
    "]\n",
    "\n",
    "books = dt.DocumentList()\n",
    "books.docs = [dt.Document(text=d[\"content\"], metadata={\"title\": d[\"title\"]}) for d in input_data]\n",
    "\n",
    "# The DocumentList type is used as input/output for the modules/memory\n",
    "\n",
    "print(books)"
   ]
  },
  {
   "cell_type": "markdown",
   "metadata": {},
   "source": [
    "#### Loading tabular data\n",
    "\n",
    "Loading tabular data is an important aspect for businesses, the easiest way of doing it is to use panda\n",
    "\n",
    "Let's imagine that we have the following data in a file called `salaries_and_bonuses.csv`:\n",
    "\n",
    "| EmployeeID | FirstName | LastName | Position | HireDate | Salary | Bonus | TotalCompensation |\n",
    "| --- | --- | --- | --- | --- | --- | --- | --- |\n",
    "| 1 | John | Doe | Software Engineer | 2021-01-01 | 80000.00 | 5000.00 | 85000.00 |\n",
    "| 2 | Jane | Smith | Product Manager | 2020-06-01 | 90000.00 | 10000.00 | 100000.00 |\n",
    "| 3 | Michael | Johnson | Data Analyst | 2021-03-15 | 70000.00 | 2000.00 | 72000.00 |\n",
    "| 4 | Emily | Davis | Marketing Manager | 2019-09-01 | 100000.00 | 15000.00 | 115000.00 |\n",
    "| 5 | Robert | Brown | Sales Representative | 2021-11-15 | 60000.00 | 0.00 | 60000.00 |\n",
    "\n",
    "This file is located into `data/salaries_and_bonuses.csv`"
   ]
  },
  {
   "cell_type": "code",
   "execution_count": 2,
   "metadata": {},
   "outputs": [
    {
     "name": "stdout",
     "output_type": "stream",
     "text": [
      "EmployeeID                              5\n",
      "FirstName                          Robert\n",
      "LastName                            Brown\n",
      "Position             Sales Representative\n",
      "HireDate                       2021-11-15\n",
      "Salary                            60000.0\n",
      "Bonus                                 0.0\n",
      "TotalCompensation                 60000.0\n",
      "Name: 4, dtype: object\n"
     ]
    }
   ],
   "source": [
    "import pandas as pd\n",
    "\n",
    "filename = \"data/salaries_and_bonuses.csv\"\n",
    "# Load the CSV file into a pandas DataFrame\n",
    "df = pd.read_csv(filename)\n",
    "\n",
    "# We create the parent doc containing the whole data\n",
    "parent_table = dt.Document(text=df.to_markdown(index=False), metadata={\"href\": filename})\n",
    "\n",
    "table_rows = dt.DocumentList()\n",
    "\n",
    "for index, row in df.iterrows():\n",
    "    row_doc = dt.Document(text=str(row), parent_id=parent_table.id, metadata={\"row_index\": index})\n",
    "    table_rows.docs.append(row_doc)\n",
    "\n",
    "# Each row will be represented like this one to be processed as textual data\n",
    "print(row)"
   ]
  },
  {
   "cell_type": "markdown",
   "metadata": {},
   "source": [
    "### Loading documents into memory\n",
    "\n",
    "To make available the documents for the Agent system, we need to load the documents into memory."
   ]
  },
  {
   "cell_type": "code",
   "execution_count": 3,
   "metadata": {},
   "outputs": [
    {
     "name": "stdout",
     "output_type": "stream",
     "text": [
      "tests_document_memory.html\n"
     ]
    }
   ],
   "source": [
    "from hybridagi.memory.integration.local.local_document_memory import LocalDocumentMemory\n",
    "\n",
    "doc_memory = LocalDocumentMemory(index_name=\"tests\")\n",
    "\n",
    "# We load them into memory, ready to work !\n",
    "doc_memory.update(books)\n",
    "doc_memory.update(parent_table)\n",
    "doc_memory.update(table_rows)\n",
    "\n",
    "# Let's show what it look like, let the mouse over the node to show the content\n",
    "doc_memory.show(notebook=False)\n"
   ]
  }
 ],
 "metadata": {
  "kernelspec": {
   "display_name": "hybridagi-B1GoJrSC-py3.10",
   "language": "python",
   "name": "python3"
  },
  "language_info": {
   "codemirror_mode": {
    "name": "ipython",
    "version": 3
   },
   "file_extension": ".py",
   "mimetype": "text/x-python",
   "name": "python",
   "nbconvert_exporter": "python",
   "pygments_lexer": "ipython3",
   "version": "3.10.12"
  }
 },
 "nbformat": 4,
 "nbformat_minor": 2
}
