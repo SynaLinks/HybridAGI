{
 "cells": [
  {
   "cell_type": "markdown",
   "metadata": {},
   "source": [
    "# Working with the Documents\n",
    "\n",
    "`Document`: Represent an unstructured textual data to be processed or saved into the `DocumentMemory`, it can represent a text, text chunk, table row or a claim (unstructured fact)\n",
    "\n",
    "`DocumentList`: The DSPy type used by data processing modules and memory\n",
    "  \n",
    "```python\n",
    "import dspy\n",
    "from pydantic import BaseModel, Field\n",
    "from typing import Optional, List, Dict\n",
    "\n",
    "class Document(BaseModel):\n",
    "\tid: str = Field(description=\"Unique identifier for the document\", default_factory=uuid4)\n",
    "\ttext: str = Field(description=\"The actual text content of the document\")\n",
    "\tparent_id: str = Field(description=\"Identifier for the parent document\", default=\"\")\n",
    "\tvector: Optional[List[float]] = Field(description=\"Vector representation of the document\", default=None)\n",
    "\tmetadata: Optional[Dict[str, Any]] = Field(description=\"Additional information about the document\", default=None)\n",
    "\n",
    "class DocumentList(BaseModel, dspy.Prediction):\n",
    "\tdocs: List[Document] = Field(description=\"List of documents\", default=[])\n",
    "\n",
    "``` \n"
   ]
  },
  {
   "cell_type": "code",
   "execution_count": 1,
   "metadata": {},
   "outputs": [
    {
     "name": "stderr",
     "output_type": "stream",
     "text": [
      "/home/yoan/.cache/pypoetry/virtualenvs/hybridagi-B1GoJrSC-py3.10/lib/python3.10/site-packages/tqdm/auto.py:21: TqdmWarning: IProgress not found. Please update jupyter and ipywidgets. See https://ipywidgets.readthedocs.io/en/stable/user_install.html\n",
      "  from .autonotebook import tqdm as notebook_tqdm\n"
     ]
    },
    {
     "name": "stdout",
     "output_type": "stream",
     "text": [
      "docs=[Document(id=UUID('3942f12b-7de3-43fb-a4c4-a3214cd27b7a'), text=\"The Catcher in the Rye is a novel by J. D. Salinger, partially published in serial form in 1945–1946 and as a novel in 1951. It is widely considered one of the greatest American novels of the 20th century. The novel's protagonist, Holden Caulfield, has become an icon for teenage rebellion and angst. The novel also deals with complex issues of innocence, identity, belonging, loss, and connection.\", parent_id=None, vector=None, metadata={'title': 'The Catcher in the Rye'}, created_at=datetime.datetime(2024, 8, 3, 18, 21, 30, 859950)), Document(id=UUID('caaabddb-dc48-4b73-b6cd-3b4851e0123c'), text=\"To Kill a Mockingbird is a novel by Harper Lee published in 1960. It was immediately successful, winning the Pulitzer Prize, and has become a classic of modern American literature. The plot and characters are loosely based on the author's observations of her family and neighbors, as well as on an event that occurred near her hometown in 1936, when she was 10 years old. The novel is renowned for its sensitivity and depth in addressing racial injustice, class, gender roles, and destruction of innocence.\", parent_id=None, vector=None, metadata={'title': 'To Kill a Mockingbird'}, created_at=datetime.datetime(2024, 8, 3, 18, 21, 30, 859960))]\n"
     ]
    }
   ],
   "source": [
    "import hybridagi.core.datatypes as dt\n",
    "\n",
    "input_data = [\n",
    "    {\n",
    "        \"title\": \"The Catcher in the Rye\",\n",
    "        \"content\": \"The Catcher in the Rye is a novel by J. D. Salinger, partially published in serial form in 1945–1946 and as a novel in 1951. It is widely considered one of the greatest American novels of the 20th century. The novel's protagonist, Holden Caulfield, has become an icon for teenage rebellion and angst. The novel also deals with complex issues of innocence, identity, belonging, loss, and connection.\"\n",
    "    },\n",
    "    {\n",
    "        \"title\": \"To Kill a Mockingbird\",\n",
    "        \"content\": \"To Kill a Mockingbird is a novel by Harper Lee published in 1960. It was immediately successful, winning the Pulitzer Prize, and has become a classic of modern American literature. The plot and characters are loosely based on the author's observations of her family and neighbors, as well as on an event that occurred near her hometown in 1936, when she was 10 years old. The novel is renowned for its sensitivity and depth in addressing racial injustice, class, gender roles, and destruction of innocence.\"\n",
    "    }\n",
    "]\n",
    "\n",
    "books = dt.DocumentList()\n",
    "books.docs = [dt.Document(text=d[\"content\"], metadata={\"title\": d[\"title\"]}) for d in input_data]\n",
    "\n",
    "# The DocumentList type is used as input/output for the modules/memory\n",
    "\n",
    "print(books)\n"
   ]
  },
  {
   "cell_type": "markdown",
   "metadata": {},
   "source": [
    "# Working with the Facts\n",
    "\n",
    "`Entity`: Represent an entity like a person, object, place or document to be processed or saved into the `FactMemory`\n",
    "\n",
    "`Relationship`: Represent an relation to be processed or saved into the `FactMemory`\n",
    "\n",
    "`Fact`: Represent a first order predicate to be processed or saved into the `FactMemory`\n",
    "\n",
    "`EntityList`: A list of entities to be processed or saved into memory\n",
    "\n",
    "`FactList`: A list of facts to be processed or saved into memory\n",
    "\n",
    "```python\n",
    "\n",
    "class Entity(BaseModel):\n",
    "    id: Union[UUID, str] = Field(description=\"Unique identifier for the entity\", default_factory=uuid4)\n",
    "    label: str = Field(description=\"Label or category of the entity\")\n",
    "    name: str = Field(description=\"Name or title of the entity\")\n",
    "    description: Optional[str] = Field(description=\"Description of the entity\", default=None)\n",
    "    vector: Optional[List[float]] = Field(description=\"Vector representation of the document\", default=None)\n",
    "    metadata: Optional[Dict[str, Any]] = Field(description=\"Additional information about the document\", default={})\n",
    "    created_at: datetime = Field(description=\"Time when the entity was created\", default_factory=datetime.now)\n",
    "    \n",
    "    def to_dict(self):\n",
    "        if self.description is not None:\n",
    "            return {\"name\": self.name, \"label\": self.label, \"description\": self.description, \"metadata\": self.metadata}\n",
    "        else:\n",
    "            return {\"name\": self.name, \"label\": self.label, \"metadata\": self.metadata}\n",
    "\n",
    "class EntityList(BaseModel, dspy.Prediction):\n",
    "    entities: List[Entity] = Field(description=\"List of entities\", default=[])\n",
    "    \n",
    "    def __init__(self, **kwargs):\n",
    "        BaseModel.__init__(self, **kwargs)\n",
    "        dspy.Prediction.__init__(self, **kwargs)\n",
    "        \n",
    "    def to_dict(self):\n",
    "        return {\"entities\": [e.to_dict() for e in self.entities]}\n",
    "\n",
    "class Relationship(BaseModel):\n",
    "    id: Union[UUID, str] = Field(description=\"Unique identifier for the relation\", default_factory=uuid4)\n",
    "    name: str = Field(description=\"Relationship name\")\n",
    "    vector: Optional[List[float]] = Field(description=\"Vector representation of the relationship\", default=None)\n",
    "    metadata: Optional[Dict[str, Any]] = Field(description=\"Additional information about the relationship\", default={})\n",
    "    created_at: datetime = Field(description=\"Time when the relationship was created\", default_factory=datetime.now)\n",
    "    \n",
    "    def to_dict(self):\n",
    "        return {\"name\": self.name, \"metadata\": self.metadata}\n",
    "\n",
    "class Fact(BaseModel):\n",
    "    id: Union[UUID, str] = Field(description=\"Unique identifier for the fact\", default_factory=uuid4)\n",
    "    subj: Entity = Field(description=\"Entity that is the subject of the fact\")\n",
    "    rel: Relationship = Field(description=\"Relation between the subject and object entities\")\n",
    "    obj: Entity = Field(description=\"Entity that is the object of the fact\")\n",
    "    weight: float = Field(description=\"The fact weight (between 0.0 and 1.0, default 1.0)\", default=1.0)\n",
    "    vector: Optional[List[float]] = Field(description=\"Vector representation of the fact\", default=None)\n",
    "    metadata: Optional[Dict[str, Any]] = Field(description=\"Additional information about the fact\", default={})\n",
    "    created_at: datetime = Field(description=\"Time when the fact was created\", default_factory=datetime.now)\n",
    "    \n",
    "    def to_dict(self):\n",
    "        return {\"fact\": \"(:\"+self.subj.label+\" {name:\\\"\"+self.subj.name+\"\\\"})-[:\"+self.rel.name+\"]->(:\"+self.obj.label+\" {name:\\\"\"+self.obj.name+\"\\\"})\"}\n",
    "\n",
    "class FactList(BaseModel, dspy.Prediction):\n",
    "    facts: List[Fact] = Field(description=\"List of facts\", default=[])\n",
    "    \n",
    "    def __init__(self, **kwargs):\n",
    "        BaseModel.__init__(self, **kwargs)\n",
    "        dspy.Prediction.__init__(self, **kwargs)\n",
    "        \n",
    "    def to_dict(self):\n",
    "        return {\"facts\": [f.to_dict() for f in self.facts]}\n",
    "```"
   ]
  },
  {
   "cell_type": "markdown",
   "metadata": {},
   "source": [
    "## Loading CSV data\n",
    "\n",
    "Loading tabular data is an important aspect for businesses.\n",
    "\n",
    "Let's imagine that we have the following data in a file called `salaries_and_bonuses.csv`:\n",
    "\n",
    "| EmployeeID | FirstName | LastName | Position | HireDate | Salary | Bonus | TotalCompensation |\n",
    "| --- | --- | --- | --- | --- | --- | --- | --- |\n",
    "| 1 | John | Doe | Software Engineer | 2021-01-01 | 80000.00 | 5000.00 | 85000.00 |\n",
    "| 2 | Jane | Smith | Product Manager | 2020-06-01 | 90000.00 | 10000.00 | 100000.00 |\n",
    "| 3 | Michael | Johnson | Data Analyst | 2021-03-15 | 70000.00 | 2000.00 | 72000.00 |\n",
    "| 4 | Emily | Davis | Marketing Manager | 2019-09-01 | 100000.00 | 15000.00 | 115000.00 |\n",
    "| 5 | Robert | Brown | Sales Representative | 2021-11-15 | 60000.00 | 0.00 | 60000.00 |"
   ]
  },
  {
   "cell_type": "code",
   "execution_count": 2,
   "metadata": {},
   "outputs": [
    {
     "name": "stdout",
     "output_type": "stream",
     "text": [
      "EmployeeID                              5\n",
      "FirstName                          Robert\n",
      "LastName                            Brown\n",
      "Position             Sales Representative\n",
      "HireDate                       2021-11-15\n",
      "Salary                            60000.0\n",
      "Bonus                                 0.0\n",
      "TotalCompensation                 60000.0\n"
     ]
    }
   ],
   "source": [
    "from hybridagi.readers import CSVReader\n",
    "\n",
    "reader = CSVReader()\n",
    "# Load the CSV file\n",
    "table_rows = reader(\"data/salaries_and_bonuses.csv\")\n",
    "\n",
    "# Check the last document representing the last row\n",
    "print(table_rows.docs[-1].text)"
   ]
  },
  {
   "cell_type": "markdown",
   "metadata": {},
   "source": [
    "## Loading PDF data"
   ]
  },
  {
   "cell_type": "code",
   "execution_count": 3,
   "metadata": {},
   "outputs": [
    {
     "name": "stdout",
     "output_type": "stream",
     "text": [
      "Developmental Science 10:1 (2007), pp 89–96\n",
      "DOI: 10.1111/j.1467-7687.2007.00569.x\n",
      "© 2007 The Authors. Journal compilation © 2007 Blackwell Publishing Ltd, 9600 Garsington Road, Oxford OX4 2DQ, UK and \n",
      "350 Main Street, Malden, MA 02148, USA.\n",
      "Blackwell Publishing Ltd\n",
      "Core knowledge\n",
      "Elizabeth S. Spelke and Katherine D. Kinzler\n",
      "Department of Psychology, Harvard University, USA \n",
      "Abstract\n",
      "Human cognition is founded, in part, on four systems for representing objects, actions, number, and space. It may be based, as\n",
      "well, on a ﬁfth system for representing social partners. Each system has deep roots in human phylogeny and ontogeny, and it\n",
      "guides and shapes the mental lives of adults. Converging research on human infants, non-human primates, children and adults\n",
      "in diverse cultures can aid both understanding of these systems and attempts to overcome their limits.\n",
      "Introduction\n",
      "Cognitive science has been dominated by two views of\n",
      "human nature. On one view, the human mind is a ﬂexible\n",
      "and adaptable mechanism for discovering regularities in\n",
      "experience: a single learning system that copes with all\n",
      "the diversity of life. On the competing view, the human\n",
      "mind is a collection of special-purpose mechanisms, each\n",
      "shaped by evolution to perform a particular function.\n",
      "The ﬁrst view traces back to Enlightenment thinkers\n",
      "such as Locke (1689) and Hume (1748) and has been\n",
      "invigorated more recently by cognitive psychologists and\n",
      "neural network theorists (e.g. Rumelhart & McClelland,\n",
      "1985; Hinton, 1993). The second view was inspired by\n",
      "Darwin (1871) and gained prominence with the rise of\n",
      "evolutionary psychology (e.g. Cosmides & Tooby, 1994;\n",
      "Pinker, 2002). Much public discussion has focused on\n",
      "the diverging ways in which these views explain human\n",
      "behavior. Does a given ethnic group excel in mathematics\n",
      "because its members have studied more diligently, or\n",
      "because they have inherited greater talent? Do some\n",
      "adolescents join violent gangs because they learned\n",
      "aggressive behavior from their communities, or because\n",
      "they inherited a predisposition toward intergroup com-\n",
      "petition? Behind these speciﬁc questions lies a more\n",
      "general concern: To what degree can we human beings\n",
      "determine our fates and choose our futures? With enough\n",
      "cognitive work, can any person develop her mathematical\n",
      "talents and control her aggression?\n",
      "Developmental science was born from these concerns,\n",
      "and its research bears on these questions. We believe its\n",
      "research has shown that both these views are false: humans\n",
      "are endowed neither with a single, general-purpose learning\n",
      "system nor with myriad special-purpose systems and\n",
      "predispositions. Instead, we believe that humans are\n",
      "endowed with a small number of separable systems of\n",
      "core knowledge. New, ﬂexible skills and belief systems\n",
      "build on these core foundations.\n",
      "Studies of human infants and non-human animals,\n",
      "focused on the ontogenetic and phylogenetic origins of\n",
      "knowledge, provide evidence for four core knowledge\n",
      "systems (Spelke, 2004). These systems serve to represent\n",
      "inanimate objects and their mechanical interactions,\n",
      "agents and their goal-directed actions, sets and their\n",
      "numerical relationships of ordering, addition and sub-\n",
      "traction, and places in the spatial layout and their geo-\n",
      "metric relationships. Each system centers on a set of\n",
      "principles that serves to individuate the entities in its\n",
      "domain and to support inferences about the entities’\n",
      "behavior. Each system, moreover, is characterized by a\n",
      "set of signature limits that allow investigators to identify\n",
      "the system across tasks, ages, species, and human cultures.\n",
      "The core system of object representation has been\n",
      "studied most extensively. It centers on the spatio-temporal\n",
      "principles of cohesion (objects move as connected and\n",
      "bounded wholes), continuity (objects move on connected,\n",
      "unobstructed paths), and contact (objects do not interact\n",
      "at a distance) (Aguiar & Baillargeon, 1999; Leslie & Keeble,\n",
      "1987; Spelke, 1990). These principles allow human infants\n",
      "as well as other animals to perceive object boundaries,\n",
      "to represent the complete shapes of objects that move\n",
      "partly or fully out of view, and to predict when objects\n",
      "will move and where they will come to rest. Some of\n",
      "these abilities are observed in the absence of any visual\n",
      "experience, in newborn human infants or newly hatched\n",
      "chicks (Valenza, Leo, Gava & Simion, in press; Regolin\n",
      "& Vallortigara, 1995; Lea, Slater & Ryan, 1996). Even\n",
      "infants with months of visual experience do not, however,\n",
      "Address for correspondence: Elizabeth S. Spelke, Department of Psychology, Harvard University, 1130 William James Hall, Cambridge, MA 02138,\n",
      "USA; e-mail: spelke@wjh.harvard.edu\n",
      "\n"
     ]
    }
   ],
   "source": [
    "from hybridagi.readers import PDFReader\n",
    "\n",
    "reader = PDFReader()\n",
    "\n",
    "pdf_pages = reader(\"data/SpelkeKinzlerCoreKnowledge.pdf\")\n",
    "\n",
    "print(pdf_pages.docs[0].text)"
   ]
  },
  {
   "cell_type": "markdown",
   "metadata": {},
   "source": [
    "## Loading Textual data"
   ]
  },
  {
   "cell_type": "code",
   "execution_count": 4,
   "metadata": {},
   "outputs": [
    {
     "name": "stdout",
     "output_type": "stream",
     "text": [
      "# SynaLinks SAS presentation\n",
      "\n",
      "SynaLinks is a young French start-up founded in Toulouse in 2023. Our mission is to promote a responsible and pragmatic approach to general artificial intelligence. To achieve this, we integrate deep learning models with symbolic artificial intelligence models, the traditional domain of AI before the era of deep learning.\n",
      "\n",
      "At SynaLinks, our approach aims to combine the efficiency of deep learning models with the transparency and explicability of symbolic models, thus creating more robust and ethical artificial intelligence systems. We work on cutting-edge technologies that enable businesses to fully harness the potential of AI while retaining significant control over their systems, reducing the risks associated with opacity and dependence on deep learning algorithms.\n",
      "\n",
      "We work closely with our clients to customize our solutions to meet their specific needs. Our neuro-symbolic approach offers the flexibility necessary to address the diverse requirements of businesses, allowing them to remain masters of their AI.\n",
      "\n",
      "We are confident that AI can be a positive force for society and the economy, rather than a source of concern. We are committed to playing an active role in promoting responsible AI use while contributing to the advancement of the fourth industrial revolution.\n",
      "\n",
      "As a start-up based in Toulouse, we take pride in being part of the French technological ecosystem and contributing to innovation in the field of AI. Our future is centered on ongoing research, improving our products and services, and creating a world where AI is a driver of progress, ethics, and profitability for businesses.\n"
     ]
    }
   ],
   "source": [
    "\n",
    "from hybridagi.readers import TextReader\n",
    "\n",
    "reader = TextReader()\n",
    "\n",
    "documents = reader(\"data/SynaLinks_presentation.md\")\n",
    "\n",
    "print(documents.docs[0].text)"
   ]
  }
 ],
 "metadata": {
  "kernelspec": {
   "display_name": "hybridagi-B1GoJrSC-py3.10",
   "language": "python",
   "name": "python3"
  },
  "language_info": {
   "codemirror_mode": {
    "name": "ipython",
    "version": 3
   },
   "file_extension": ".py",
   "mimetype": "text/x-python",
   "name": "python",
   "nbconvert_exporter": "python",
   "pygments_lexer": "ipython3",
   "version": "3.10.12"
  }
 },
 "nbformat": 4,
 "nbformat_minor": 2
}
