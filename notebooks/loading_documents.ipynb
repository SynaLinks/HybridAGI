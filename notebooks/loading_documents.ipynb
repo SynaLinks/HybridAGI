{
 "cells": [
  {
   "cell_type": "markdown",
   "metadata": {},
   "source": [
    "# Working with documents\n",
    "\n",
    "`Document`: Represent an unstructured textual data to be processed or saved into the `DocumentMemory`, it can represent a text, text chunk, table row or a claim (unstructured fact)\n",
    "\n",
    "`DocumentList`: The DSPy type used by data processing modules and memory\n",
    "  \n",
    "```python\n",
    "import dspy\n",
    "from pydantic import BaseModel, Field\n",
    "from typing import Optional, List, Dict\n",
    "\n",
    "class Document(BaseModel):\n",
    "\tid: str = Field(description=\"Unique identifier for the document\", default_factory=uuid4)\n",
    "\ttext: str = Field(description=\"The actual text content of the document\")\n",
    "\tparent_id: str = Field(description=\"Identifier for the parent document\", default=\"\")\n",
    "\tvector: Optional[List[float]] = Field(description=\"Vector representation of the document\", default=None)\n",
    "\tmetadata: Optional[Dict[str, Any]] = Field(description=\"Additional information about the document\", default=None)\n",
    "\n",
    "class DocumentList(BaseModel, dspy.Prediction):\n",
    "\tdocs: List[Document] = Field(description=\"List of documents\", default=[])\n",
    "\n",
    "``` \n"
   ]
  },
  {
   "cell_type": "code",
   "execution_count": 1,
   "metadata": {},
   "outputs": [
    {
     "name": "stderr",
     "output_type": "stream",
     "text": [
      "/home/yoan/.cache/pypoetry/virtualenvs/hybridagi-B1GoJrSC-py3.10/lib/python3.10/site-packages/tqdm/auto.py:21: TqdmWarning: IProgress not found. Please update jupyter and ipywidgets. See https://ipywidgets.readthedocs.io/en/stable/user_install.html\n",
      "  from .autonotebook import tqdm as notebook_tqdm\n"
     ]
    },
    {
     "name": "stdout",
     "output_type": "stream",
     "text": [
      "docs=[Document(id=UUID('d16c8404-62d2-4d4f-8fe9-a32d69ecd229'), text=\"The Catcher in the Rye is a novel by J. D. Salinger, partially published in serial form in 1945–1946 and as a novel in 1951. It is widely considered one of the greatest American novels of the 20th century. The novel's protagonist, Holden Caulfield, has become an icon for teenage rebellion and angst. The novel also deals with complex issues of innocence, identity, belonging, loss, and connection.\", parent_id=None, vector=None, metadata={'title': 'The Catcher in the Rye'}, created_at=datetime.datetime(2024, 8, 2, 17, 10, 34, 26183)), Document(id=UUID('cc9d0c01-3985-4826-bfa4-24d52d140fa5'), text=\"To Kill a Mockingbird is a novel by Harper Lee published in 1960. It was immediately successful, winning the Pulitzer Prize, and has become a classic of modern American literature. The plot and characters are loosely based on the author's observations of her family and neighbors, as well as on an event that occurred near her hometown in 1936, when she was 10 years old. The novel is renowned for its sensitivity and depth in addressing racial injustice, class, gender roles, and destruction of innocence.\", parent_id=None, vector=None, metadata={'title': 'To Kill a Mockingbird'}, created_at=datetime.datetime(2024, 8, 2, 17, 10, 34, 26192))]\n"
     ]
    }
   ],
   "source": [
    "import hybridagi.core.datatypes as dt\n",
    "\n",
    "input_data = [\n",
    "    {\n",
    "        \"title\": \"The Catcher in the Rye\",\n",
    "        \"content\": \"The Catcher in the Rye is a novel by J. D. Salinger, partially published in serial form in 1945–1946 and as a novel in 1951. It is widely considered one of the greatest American novels of the 20th century. The novel's protagonist, Holden Caulfield, has become an icon for teenage rebellion and angst. The novel also deals with complex issues of innocence, identity, belonging, loss, and connection.\"\n",
    "    },\n",
    "    {\n",
    "        \"title\": \"To Kill a Mockingbird\",\n",
    "        \"content\": \"To Kill a Mockingbird is a novel by Harper Lee published in 1960. It was immediately successful, winning the Pulitzer Prize, and has become a classic of modern American literature. The plot and characters are loosely based on the author's observations of her family and neighbors, as well as on an event that occurred near her hometown in 1936, when she was 10 years old. The novel is renowned for its sensitivity and depth in addressing racial injustice, class, gender roles, and destruction of innocence.\"\n",
    "    }\n",
    "]\n",
    "\n",
    "books = dt.DocumentList()\n",
    "books.docs = [dt.Document(text=d[\"content\"], metadata={\"title\": d[\"title\"]}) for d in input_data]\n",
    "\n",
    "# The DocumentList type is used as input/output for the modules/memory\n",
    "\n",
    "print(books)"
   ]
  },
  {
   "cell_type": "markdown",
   "metadata": {},
   "source": [
    "#### Loading tabular data\n",
    "\n",
    "Loading tabular data is an important aspect for businesses, the easiest way of doing it is to use panda\n",
    "\n",
    "Let's imagine that we have the following data in a file called `salaries_and_bonuses.csv`:\n",
    "\n",
    "| EmployeeID | FirstName | LastName | Position | HireDate | Salary | Bonus | TotalCompensation |\n",
    "| --- | --- | --- | --- | --- | --- | --- | --- |\n",
    "| 1 | John | Doe | Software Engineer | 2021-01-01 | 80000.00 | 5000.00 | 85000.00 |\n",
    "| 2 | Jane | Smith | Product Manager | 2020-06-01 | 90000.00 | 10000.00 | 100000.00 |\n",
    "| 3 | Michael | Johnson | Data Analyst | 2021-03-15 | 70000.00 | 2000.00 | 72000.00 |\n",
    "| 4 | Emily | Davis | Marketing Manager | 2019-09-01 | 100000.00 | 15000.00 | 115000.00 |\n",
    "| 5 | Robert | Brown | Sales Representative | 2021-11-15 | 60000.00 | 0.00 | 60000.00 |\n",
    "\n",
    "This file is located into `data/salaries_and_bonuses.csv`"
   ]
  },
  {
   "cell_type": "code",
   "execution_count": 2,
   "metadata": {},
   "outputs": [
    {
     "name": "stdout",
     "output_type": "stream",
     "text": [
      "EmployeeID                           1\n",
      "FirstName                         John\n",
      "LastName                           Doe\n",
      "Position             Software Engineer\n",
      "HireDate                    2021-01-01\n",
      "Salary                         80000.0\n",
      "Bonus                           5000.0\n",
      "TotalCompensation              85000.0\n"
     ]
    }
   ],
   "source": [
    "from hybridagi.readers import CSVReader\n",
    "\n",
    "reader = CSVReader()\n",
    "# Load the CSV file\n",
    "table_rows = reader(\"data/salaries_and_bonuses.csv\")\n",
    "\n",
    "# Check the last document representing the last row\n",
    "print(table_rows.docs[0].text)"
   ]
  },
  {
   "cell_type": "markdown",
   "metadata": {},
   "source": [
    "### Loading documents into memory\n",
    "\n",
    "To make available the documents for the Agent system, we need to load the documents into memory."
   ]
  },
  {
   "cell_type": "code",
   "execution_count": 3,
   "metadata": {},
   "outputs": [
    {
     "ename": "NameError",
     "evalue": "name 'table_rows' is not defined",
     "output_type": "error",
     "traceback": [
      "\u001b[0;31m---------------------------------------------------------------------------\u001b[0m",
      "\u001b[0;31mNameError\u001b[0m                                 Traceback (most recent call last)",
      "Cell \u001b[0;32mIn[3], line 7\u001b[0m\n\u001b[1;32m      5\u001b[0m \u001b[38;5;66;03m# We load them into memory, ready to work !\u001b[39;00m\n\u001b[1;32m      6\u001b[0m doc_memory\u001b[38;5;241m.\u001b[39mupdate(books)\n\u001b[0;32m----> 7\u001b[0m doc_memory\u001b[38;5;241m.\u001b[39mupdate(\u001b[43mtable_rows\u001b[49m)\n\u001b[1;32m      9\u001b[0m \u001b[38;5;66;03m# Let's show what it look like, let the mouse over the node to show the content\u001b[39;00m\n\u001b[1;32m     10\u001b[0m doc_memory\u001b[38;5;241m.\u001b[39mshow()\n",
      "\u001b[0;31mNameError\u001b[0m: name 'table_rows' is not defined"
     ]
    }
   ],
   "source": [
    "from hybridagi.memory.integration.local import LocalDocumentMemory\n",
    "\n",
    "doc_memory = LocalDocumentMemory(index_name=\"tests\")\n",
    "\n",
    "# We load them into memory, ready to work !\n",
    "doc_memory.update(books)\n",
    "doc_memory.update(table_rows)\n",
    "\n",
    "# Let's show what it look like, let the mouse over the node to show the content\n",
    "doc_memory.show()\n"
   ]
  }
 ],
 "metadata": {
  "kernelspec": {
   "display_name": "hybridagi-B1GoJrSC-py3.10",
   "language": "python",
   "name": "python3"
  },
  "language_info": {
   "codemirror_mode": {
    "name": "ipython",
    "version": 3
   },
   "file_extension": ".py",
   "mimetype": "text/x-python",
   "name": "python",
   "nbconvert_exporter": "python",
   "pygments_lexer": "ipython3",
   "version": "3.10.12"
  }
 },
 "nbformat": 4,
 "nbformat_minor": 2
}
