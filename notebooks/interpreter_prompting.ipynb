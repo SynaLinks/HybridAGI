{
 "cells": [
  {
   "cell_type": "markdown",
   "metadata": {},
   "source": [
    "# Understanding HybridAGI prompting\n",
    "\n",
    "In this notebook we are going to show you how HybridAGI build the prompts for the LLM, that way you can understand how exactly the Agent use tools. To do so, we are going to make the simplest agent possible and inspect the LLM calls."
   ]
  },
  {
   "cell_type": "code",
   "execution_count": 1,
   "metadata": {},
   "outputs": [
    {
     "name": "stderr",
     "output_type": "stream",
     "text": [
      "/home/yoan/.cache/pypoetry/virtualenvs/hybridagi-B1GoJrSC-py3.10/lib/python3.10/site-packages/tqdm/auto.py:21: TqdmWarning: IProgress not found. Please update jupyter and ipywidgets. See https://ipywidgets.readthedocs.io/en/stable/user_install.html\n",
      "  from .autonotebook import tqdm as notebook_tqdm\n"
     ]
    },
    {
     "name": "stdout",
     "output_type": "stream",
     "text": [
      "Given the fields `objective`, `context`, `purpose`, `prompt`, produce the fields `message`.\n",
      "\n",
      "---\n",
      "\n",
      "Follow the following format.\n",
      "\n",
      "Objective: The long-term objective (what you are doing)\n",
      "\n",
      "Context: The previous actions (what you have done)\n",
      "\n",
      "Purpose: The purpose of the action (what you have to do now)\n",
      "\n",
      "Prompt: The action specific instructions (How to do it)\n",
      "\n",
      "Message: The message to send to the user\n",
      "\n",
      "---\n",
      "\n",
      "Objective: What is the city of the spatial and robotics industry in France?\n",
      "\n",
      "Context:\n",
      "--- Step 0 ---\n",
      "Call Program: main\n",
      "Program Purpose: What is the city of the spatial and robotics industry in France?\n",
      "--- END OF TRACE ---\n",
      "\n",
      "Purpose: Answer the user question\n",
      "\n",
      "Prompt: Please answer to the Objective's question\n",
      "\n",
      "Message:\n"
     ]
    }
   ],
   "source": [
    "import dspy\n",
    "import hybridagi.core.graph_program as gp\n",
    "from hybridagi.memory.integration.local import LocalProgramMemory\n",
    "from hybridagi.core.datatypes import AgentState, Query\n",
    "from hybridagi.modules.agents import GraphInterpreterAgent\n",
    "from hybridagi.modules.agents.tools import SpeakTool, PredictTool\n",
    "\n",
    "main = gp.GraphProgram(\n",
    "\tname = \"main\",\n",
    "\tdescription = \"The main program\",\n",
    ")\n",
    "\n",
    "main.add(gp.Action(\n",
    "    id = \"answer\",\n",
    "\ttool = \"Speak\",\n",
    "\tpurpose = \"Answer the user question\",\n",
    "\tprompt = \"Please answer to the Objective's question\",\n",
    "))\n",
    "\n",
    "main.connect(\"start\", \"answer\")\n",
    "main.connect(\"answer\", \"end\")\n",
    "\n",
    "# We build the program to verify its structure\n",
    "main.build()\n",
    "\n",
    "program_memory = LocalProgramMemory(index_name=\"prompting\")\n",
    "\n",
    "program_memory.update(main)\n",
    "\n",
    "agent_state = AgentState()\n",
    "\n",
    "tools = [\n",
    "    SpeakTool(\n",
    "        agent_state = agent_state\n",
    "    ),\n",
    "    PredictTool(),\n",
    "]\n",
    "\n",
    "agent = GraphInterpreterAgent(\n",
    "    program_memory = program_memory,\n",
    "    agent_state = agent_state,\n",
    "    tools = tools,\n",
    "    verbose = False,\n",
    ")\n",
    "\n",
    "# We can now setup the LLM using Ollama client from DSPy\n",
    "\n",
    "lm = dspy.OllamaLocal(model='mistral', max_tokens=1024, stop=[\"\\n\\n\\n\"])\n",
    "dspy.configure(lm=lm)\n",
    "\n",
    "# And call our agent\n",
    "\n",
    "result = agent(Query(query=\"What is the city of the spatial and robotics industry in France?\"))\n",
    "\n",
    "print(lm.history[-1][\"prompt\"])\n",
    "\n"
   ]
  },
  {
   "cell_type": "code",
   "execution_count": 2,
   "metadata": {},
   "outputs": [
    {
     "name": "stdout",
     "output_type": "stream",
     "text": [
      "The city of the spatial and robotics industry in France is Toulouse. This is because Toulouse hosts several major aerospace companies such as Airbus, Thales Alenia Space, and the European Space Agency (ESA). Additionally, it has a strong robotics community with institutions like the Institute for Research in Computer Science, Robotics, and Automation of Grenoble (INRIA) and the National Institute of Applied Sciences (INSA) Toulouse.\n"
     ]
    }
   ],
   "source": [
    "print(result.final_answer)"
   ]
  },
  {
   "cell_type": "code",
   "execution_count": 3,
   "metadata": {},
   "outputs": [
    {
     "name": "stdout",
     "output_type": "stream",
     "text": [
      "--- Step 0 ---\n",
      "Call Program: main\n",
      "Program Purpose: What is the city of the spatial and robotics industry in France?\n",
      "--- Step 1 ---\n",
      "Action Purpose: Answer the user question\n",
      "Action: {\n",
      "  \"message\": \"The city of the spatial and robotics industry in France is Toulouse. This is because Toulouse hosts several major aerospace companies such as Airbus, Thales Alenia Space, and the European Space Agency (ESA). Additionally, it has a strong robotics community with institutions like the Institute for Research in Computer Science, Robotics, and Automation of Grenoble (INRIA) and the National Institute of Applied Sciences (INSA) Toulouse.\"\n",
      "}\n"
     ]
    }
   ],
   "source": [
    "# This is the last (and final) answer of the Agent but we can inspect the resulting trace like that\n",
    "print(\"\\n\".join(result.program_trace.steps))"
   ]
  },
  {
   "cell_type": "markdown",
   "metadata": {},
   "source": [
    "#### The Agent Context\n",
    "\n",
    "The context always contains the N (the param `num_history` of the agent) last steps of the program trace. At each step, the long-term objective of the program and the short-term purpose of the step to help the system behave, note that the Action's prompt is not present in the resulting step of the trace, this decision have been made to isolate the prompts and give the possibility to use multiple \"roles\" LLM in the same program seamlessly."
   ]
  },
  {
   "cell_type": "code",
   "execution_count": 4,
   "metadata": {},
   "outputs": [
    {
     "name": "stdout",
     "output_type": "stream",
     "text": [
      "Given the fields `objective`, `context`, `purpose`, `prompt`, produce the fields `message`.\n",
      "\n",
      "---\n",
      "\n",
      "Follow the following format.\n",
      "\n",
      "Objective: The long-term objective (what you are doing)\n",
      "\n",
      "Context: The previous actions (what you have done)\n",
      "\n",
      "Purpose: The purpose of the action (what you have to do now)\n",
      "\n",
      "Prompt: The action specific instructions (How to do it)\n",
      "\n",
      "Message: The message to send to the user\n",
      "\n",
      "---\n",
      "\n",
      "Objective: What is the city of the spatial and robotics industry in France?\n",
      "\n",
      "Context:\n",
      "--- Step 0 ---\n",
      "Call Program: main\n",
      "Program Purpose: What is the city of the spatial and robotics industry in France?\n",
      "--- Step 1 ---\n",
      "Action Purpose: Elaborate on the Objective question\n",
      "Action: {\n",
      "  \"answer\": \"The city with a significant presence in the spatial (aerospace) and robotics industry in France is Toulouse. This city is often referred to as \\\"La Ville Rose\\\" or \\\"The Pink City.\\\" It is home to several major aerospace manufacturers, including Airbus, ATR, and the European Space Agency's (ESA) largest establishment outside of its headquarters in the Netherlands. The robotics industry also has a strong presence in Toulouse, with numerous research centers and companies focusing on robotics and automation.\"\n",
      "}\n",
      "--- END OF TRACE ---\n",
      "\n",
      "Purpose: Answer the user question\n",
      "\n",
      "Prompt: Please answer to the Objective's question\n",
      "\n",
      "Message:\n"
     ]
    }
   ],
   "source": [
    "# Now a program that involve two actions to better understand the trace objective\n",
    "\n",
    "main = gp.GraphProgram(\n",
    "\tname = \"main\",\n",
    "\tdescription = \"The main program\",\n",
    ")\n",
    "\n",
    "main.add(gp.Action(\n",
    "    id = \"elaborate\",\n",
    "\ttool = \"Predict\",\n",
    "\tpurpose = \"Elaborate on the Objective question\",\n",
    "\tprompt = \"Please elaborate on the Objective's question\",\n",
    "))\n",
    "\n",
    "main.add(gp.Action(\n",
    "    id = \"answer\",\n",
    "\ttool = \"Speak\",\n",
    "\tpurpose = \"Answer the user question\",\n",
    "\tprompt = \"Please answer to the Objective's question\",\n",
    "))\n",
    "\n",
    "main.connect(\"start\", \"elaborate\")\n",
    "main.connect(\"elaborate\", \"answer\")\n",
    "main.connect(\"answer\", \"end\")\n",
    "\n",
    "# Verify its structure\n",
    "main.build()\n",
    "\n",
    "# Update the program in memory\n",
    "program_memory.update(main)\n",
    "\n",
    "result = agent(Query(query=\"What is the city of the spatial and robotics industry in France?\"))\n",
    "\n",
    "print(lm.history[-1][\"prompt\"])"
   ]
  },
  {
   "cell_type": "code",
   "execution_count": 5,
   "metadata": {},
   "outputs": [
    {
     "name": "stdout",
     "output_type": "stream",
     "text": [
      "The city of France with a significant presence in both the spatial (aerospace) and robotics industry is Toulouse, often referred to as \"La Ville Rose\" or \"The Pink City.\" It houses major aerospace manufacturers like Airbus, ATR, and the European Space Agency's largest establishment outside its headquarters in the Netherlands. Additionally, it has a robust robotics industry with numerous research centers and companies focusing on robotics and automation.\n"
     ]
    }
   ],
   "source": [
    "print(result.final_answer)"
   ]
  },
  {
   "cell_type": "code",
   "execution_count": 6,
   "metadata": {},
   "outputs": [
    {
     "name": "stdout",
     "output_type": "stream",
     "text": [
      "--- Step 0 ---\n",
      "Call Program: main\n",
      "Program Purpose: What is the city of the spatial and robotics industry in France?\n",
      "--- Step 1 ---\n",
      "Action Purpose: Elaborate on the Objective question\n",
      "Action: {\n",
      "  \"answer\": \"The city with a significant presence in the spatial (aerospace) and robotics industry in France is Toulouse. This city is often referred to as \\\"La Ville Rose\\\" or \\\"The Pink City.\\\" It is home to several major aerospace manufacturers, including Airbus, ATR, and the European Space Agency's (ESA) largest establishment outside of its headquarters in the Netherlands. The robotics industry also has a strong presence in Toulouse, with numerous research centers and companies focusing on robotics and automation.\"\n",
      "}\n",
      "--- Step 2 ---\n",
      "Action Purpose: Answer the user question\n",
      "Action: {\n",
      "  \"message\": \"The city of France with a significant presence in both the spatial (aerospace) and robotics industry is Toulouse, often referred to as \\\"La Ville Rose\\\" or \\\"The Pink City.\\\" It houses major aerospace manufacturers like Airbus, ATR, and the European Space Agency's largest establishment outside its headquarters in the Netherlands. Additionally, it has a robust robotics industry with numerous research centers and companies focusing on robotics and automation.\"\n",
      "}\n"
     ]
    }
   ],
   "source": [
    "print(\"\\n\".join(result.program_trace.steps))"
   ]
  }
 ],
 "metadata": {
  "kernelspec": {
   "display_name": "hybridagi-B1GoJrSC-py3.10",
   "language": "python",
   "name": "python3"
  },
  "language_info": {
   "codemirror_mode": {
    "name": "ipython",
    "version": 3
   },
   "file_extension": ".py",
   "mimetype": "text/x-python",
   "name": "python",
   "nbconvert_exporter": "python",
   "pygments_lexer": "ipython3",
   "version": "3.10.12"
  }
 },
 "nbformat": 4,
 "nbformat_minor": 2
}
