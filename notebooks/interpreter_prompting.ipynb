{
 "cells": [
  {
   "cell_type": "markdown",
   "metadata": {},
   "source": [
    "# Understanding HybridAGI prompting\n",
    "\n",
    "In this notebook we are going to show you how HybridAGI build the prompts for the LLM, that way you can understand how exactly the Agent use tools. To do so, we are going to make the simplest agent possible and inspect the LLM calls."
   ]
  },
  {
   "cell_type": "code",
   "execution_count": 1,
   "metadata": {},
   "outputs": [
    {
     "name": "stderr",
     "output_type": "stream",
     "text": [
      "/home/yoan/.cache/pypoetry/virtualenvs/hybridagi-B1GoJrSC-py3.10/lib/python3.10/site-packages/tqdm/auto.py:21: TqdmWarning: IProgress not found. Please update jupyter and ipywidgets. See https://ipywidgets.readthedocs.io/en/stable/user_install.html\n",
      "  from .autonotebook import tqdm as notebook_tqdm\n"
     ]
    },
    {
     "name": "stdout",
     "output_type": "stream",
     "text": [
      "Given the fields `objective`, `context`, `purpose`, `prompt`, produce the fields `message`.\n",
      "\n",
      "---\n",
      "\n",
      "Follow the following format.\n",
      "\n",
      "Objective: The long-term objective (what you are doing)\n",
      "\n",
      "Context: The previous actions (what you have done)\n",
      "\n",
      "Purpose: The purpose of the action (what you have to do now)\n",
      "\n",
      "Prompt: The action specific instructions (How to do it)\n",
      "\n",
      "Message: The message to send to the user\n",
      "\n",
      "---\n",
      "\n",
      "Objective: What is the city of the spatial and robotics industry in France?\n",
      "\n",
      "Context:\n",
      " --- Step 0 ---\n",
      "Call Program: main\n",
      "Program Purpose: What is the city of the spatial and robotics industry in France?\n",
      "\n",
      "Purpose: Answer the user question\n",
      "\n",
      "Prompt: Please answer to the Objective's question\n",
      "\n",
      "Message:\n"
     ]
    }
   ],
   "source": [
    "import dspy\n",
    "import hybridagi.core.graph_program as gp\n",
    "from hybridagi.memory.integration.local import LocalProgramMemory\n",
    "from hybridagi.core.datatypes import AgentState, Query\n",
    "from hybridagi.modules.agents import GraphInterpreterAgent\n",
    "from hybridagi.modules.agents.tools import SpeakTool\n",
    "\n",
    "main = gp.GraphProgram(\n",
    "\tname = \"main\",\n",
    "\tdescription = \"The main program\",\n",
    ")\n",
    "\n",
    "main.add(gp.Action(\n",
    "    id = \"answer\",\n",
    "\ttool = \"Speak\",\n",
    "\tpurpose = \"Answer the user question\",\n",
    "\tprompt = \"Please answer to the Objective's question\",\n",
    "))\n",
    "\n",
    "main.connect(\"start\", \"answer\")\n",
    "main.connect(\"answer\", \"end\")\n",
    "\n",
    "# We build the program to verify its structure\n",
    "main.build()\n",
    "\n",
    "program_memory = LocalProgramMemory(index_name=\"prompting\")\n",
    "\n",
    "program_memory.update(main)\n",
    "\n",
    "agent_state = AgentState()\n",
    "\n",
    "tools = [\n",
    "    SpeakTool(\n",
    "        agent_state = agent_state\n",
    "    ),\n",
    "]\n",
    "\n",
    "rag_agent = GraphInterpreterAgent(\n",
    "    program_memory = program_memory,\n",
    "    agent_state = agent_state,\n",
    "    tools = tools,\n",
    "    verbose = False,\n",
    ")\n",
    "\n",
    "# We can now setup the LLM using Ollama client from DSPy\n",
    "\n",
    "lm = dspy.OllamaLocal(model='mistral', max_tokens=1024, stop=[\"\\n\\n\\n\"])\n",
    "dspy.configure(lm=lm)\n",
    "\n",
    "# And call our agent\n",
    "\n",
    "result = rag_agent(Query(query=\"What is the city of the spatial and robotics industry in France?\"))\n",
    "\n",
    "print(lm.history[-1][\"prompt\"])\n",
    "\n"
   ]
  }
 ],
 "metadata": {
  "kernelspec": {
   "display_name": "hybridagi-B1GoJrSC-py3.10",
   "language": "python",
   "name": "python3"
  },
  "language_info": {
   "codemirror_mode": {
    "name": "ipython",
    "version": 3
   },
   "file_extension": ".py",
   "mimetype": "text/x-python",
   "name": "python",
   "nbconvert_exporter": "python",
   "pygments_lexer": "ipython3",
   "version": "3.10.12"
  }
 },
 "nbformat": 4,
 "nbformat_minor": 2
}
