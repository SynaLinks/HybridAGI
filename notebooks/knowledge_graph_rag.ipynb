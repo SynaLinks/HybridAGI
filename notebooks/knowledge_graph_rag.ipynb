{
 "cells": [
  {
   "cell_type": "markdown",
   "metadata": {},
   "source": [
    "# Knowledge Graph RAG\n",
    "\n",
    "In this notebook we are going to show you how to build a Knowledge Graph RAG"
   ]
  },
  {
   "cell_type": "code",
   "execution_count": 1,
   "metadata": {},
   "outputs": [
    {
     "name": "stderr",
     "output_type": "stream",
     "text": [
      "/home/yoan/.cache/pypoetry/virtualenvs/hybridagi-B1GoJrSC-py3.10/lib/python3.10/site-packages/tqdm/auto.py:21: TqdmWarning: IProgress not found. Please update jupyter and ipywidgets. See https://ipywidgets.readthedocs.io/en/stable/user_install.html\n",
      "  from .autonotebook import tqdm as notebook_tqdm\n"
     ]
    }
   ],
   "source": [
    "import hybridagi.core.datatypes as dt\n",
    "\n",
    "input_data = \\\n",
    "[\n",
    "    {\n",
    "        \"Title\": \"The Shawshank Redemption\",\n",
    "        \"Year Produced\": 1994,\n",
    "        \"Actors\": [\"Tim Robbins\", \"Morgan Freeman\"],\n",
    "        \"Directors\": [\"Frank Darabont\"],\n",
    "        \"Genres\": [\"Drama\", \"Crime\"],\n",
    "        \"Ratings\": 9.3\n",
    "    },\n",
    "    {\n",
    "        \"Title\": \"The Godfather\",\n",
    "        \"Year Produced\": 1972,\n",
    "        \"Actors\": [\"Marlon Brando\", \"Al Pacino\", \"Diane Keaton\"],\n",
    "        \"Directors\": [\"Francis Ford Coppola\"],\n",
    "        \"Genres\": [\"Crime\", \"Drama\"],\n",
    "        \"Ratings\": 9.2\n",
    "    },\n",
    "    {\n",
    "        \"Title\": \"The Godfather: Part II\",\n",
    "        \"Year Produced\": 1974,\n",
    "        \"Actors\": [\"Al Pacino\", \"Robert De Niro\", \"Diane Keaton\"],\n",
    "        \"Directors\": [\"Francis Ford Coppola\"],\n",
    "        \"Genres\": [\"Crime\", \"Drama\"],\n",
    "        \"Ratings\": 9.0\n",
    "    },\n",
    "    {\n",
    "        \"Title\": \"The Dark Knight\",\n",
    "        \"Year Produced\": 2008,\n",
    "        \"Actors\": [\"Christian Bale\", \"Heath Ledger\", \"Maggie Gyllenhaal\"],\n",
    "        \"Directors\": [\"Christopher Nolan\"],\n",
    "        \"Genres\": [\"Action\", \"Crime\", \"Drama\"],\n",
    "        \"Ratings\": 9.0\n",
    "    },\n",
    "    {\n",
    "        \"Title\": \"Pulp Fiction\",\n",
    "        \"Year Produced\": 1994,\n",
    "        \"Actors\": [\"John Travolta\", \"Uma Thurman\", \"Samuel L. Jackson\"],\n",
    "        \"Directors\": [\"Quentin Tarantino\"],\n",
    "        \"Genres\": [\"Crime\", \"Drama\"],\n",
    "        \"Ratings\": 8.9\n",
    "    },\n",
    "    {\n",
    "        \"Title\": \"Schindler's List\",\n",
    "        \"Year Produced\": 1993,\n",
    "        \"Actors\": [\"Liam Neeson\", \"Ralph Fiennes\", \"Embeth Davidtz\"],\n",
    "        \"Directors\": [\"Steven Spielberg\"],\n",
    "        \"Genres\": [\"Drama\", \"History\", \"War\"],\n",
    "        \"Ratings\": 8.9\n",
    "    },\n",
    "    {\n",
    "        \"Title\": \"12 Angry Men\",\n",
    "        \"Year Produced\": 1957,\n",
    "        \"Actors\": [\"Henry Fonda\", \"Lee J. Cobb\", \"Ed Begley\"],\n",
    "        \"Directors\": [\"Sidney Lumet\"],\n",
    "        \"Genres\": [\"Drama\"],\n",
    "        \"Ratings\": 8.9\n",
    "    },\n",
    "    {\n",
    "        \"Title\": \"The Lord of the Rings: The Return of the King\",\n",
    "        \"Year Produced\": 2003,\n",
    "        \"Actors\": [\"Elijah Wood\", \"Viggo Mortensen\", \"Cate Blanchett\"],\n",
    "        \"Directors\": [\"Peter Jackson\"],\n",
    "        \"Genres\": [\"Adventure\", \"Drama\", \"Fantasy\"],\n",
    "        \"Ratings\": 8.9\n",
    "    },\n",
    "    {\n",
    "        \"Title\": \"Forrest Gump\",\n",
    "        \"Year Produced\": 1994,\n",
    "        \"Actors\": [\"Tom Hanks\", \"Robin Wright\", \"Sally Field\"],\n",
    "        \"Directors\": [\"Robert Zemeckis\"],\n",
    "        \"Genres\": [\"Drama\", \"Romance\"],\n",
    "        \"Ratings\": 8.8\n",
    "    },\n",
    "    {\n",
    "        \"Title\": \"Inception\",\n",
    "        \"Year Produced\": 2010,\n",
    "        \"Actors\": [\"Leonardo DiCaprio\", \"Joseph Gordon-Levitt\", \"Ellen Page\"],\n",
    "        \"Directors\": [\"Christopher Nolan\"],\n",
    "        \"Genres\": [\"Action\", \"Adventure\", \"Sci-Fi\"],\n",
    "        \"Ratings\": 8.8\n",
    "    }\n",
    "]\n",
    "\n",
    "input_facts = dt.FactList()\n",
    "\n",
    "for data in input_data:\n",
    "    movie = dt.Entity(name=data[\"Title\"], label=\"Movie\")\n",
    "    year = dt.Entity(name=str(data[\"Year Produced\"]), label=\"Year\")\n",
    "    input_facts.facts.append(dt.Fact(subj=movie, rel=dt.Relationship(name=\"Produced in\"), obj=year))\n",
    "    for actor in data[\"Actors\"]:\n",
    "        actor_entity = dt.Entity(name=actor, label=\"Actor\")\n",
    "        input_facts.facts.append(dt.Fact(subj=actor_entity, rel=dt.Relationship(name=\"Played in\"), obj=movie))\n",
    "    for director in data[\"Directors\"]:\n",
    "        director_entity = dt.Entity(name=actor, label=\"Director\")\n",
    "        input_facts.facts.append(dt.Fact(subj=movie, rel=dt.Relationship(name=\"Directed by\"), obj=director_entity))\n",
    "    for genre in data[\"Genres\"]:\n",
    "        genre_entity = dt.Entity(name=genre, label=\"Genre\")\n",
    "        input_facts.facts.append(dt.Fact(subj=movie, rel=dt.Relationship(name=\"Has genre\"), obj=genre_entity))\n",
    "    rating = dt.Entity(name=str(data[\"Ratings\"]), label=\"Ratings\")\n",
    "    input_facts.facts.append(dt.Fact(subj=movie, rel=dt.Relationship(name=\"Has ratings of\"), obj=rating))"
   ]
  },
  {
   "cell_type": "code",
   "execution_count": 2,
   "metadata": {},
   "outputs": [
    {
     "name": "stdout",
     "output_type": "stream",
     "text": [
      "test_fact_memory.html\n"
     ]
    }
   ],
   "source": [
    "from hybridagi.memory.integration.local import LocalFactMemory\n",
    "\n",
    "fact_memory = LocalFactMemory(index_name=\"test\")\n",
    "fact_memory.update(input_facts)\n",
    "\n",
    "fact_memory.show()"
   ]
  },
  {
   "cell_type": "markdown",
   "metadata": {},
   "source": [
    "#### A simple pipeline: deduplicating entities\n",
    "\n",
    "You will notice that each graph created by our input data are not connected, this arise when the entities are duplicated. To solve this issue, we are going to apply a very simple pipeline with one step that deduplicate the entities using their names and labels."
   ]
  },
  {
   "cell_type": "code",
   "execution_count": 3,
   "metadata": {},
   "outputs": [
    {
     "name": "stdout",
     "output_type": "stream",
     "text": [
      "test_fact_memory.html\n"
     ]
    }
   ],
   "source": [
    "from hybridagi.core.pipeline import Pipeline\n",
    "from hybridagi.modules.deduplicator import EntityDeduplicator\n",
    "from hybridagi.modules.embedders import \n",
    "\n",
    "pipeline = Pipeline()\n",
    "\n",
    "pipeline.add(\"deduplicate_entities\", EntityDeduplicator(method=\"exact\"))\n",
    "# pipeline.add(\"embed_entities\", E)\n",
    "\n",
    "output_facts = pipeline(input_facts)\n",
    "\n",
    "fact_memory.update(output_facts) # Update the fact memory with our cleaned data\n",
    "\n",
    "fact_memory.show()"
   ]
  }
 ],
 "metadata": {
  "kernelspec": {
   "display_name": "hybridagi-B1GoJrSC-py3.10",
   "language": "python",
   "name": "python3"
  },
  "language_info": {
   "codemirror_mode": {
    "name": "ipython",
    "version": 3
   },
   "file_extension": ".py",
   "mimetype": "text/x-python",
   "name": "python",
   "nbconvert_exporter": "python",
   "pygments_lexer": "ipython3",
   "version": "3.10.12"
  }
 },
 "nbformat": 4,
 "nbformat_minor": 2
}
