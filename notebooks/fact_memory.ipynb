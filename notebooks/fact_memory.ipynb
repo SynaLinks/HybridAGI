{
 "cells": [
  {
   "cell_type": "code",
   "execution_count": 14,
   "metadata": {},
   "outputs": [],
   "source": [
    "import dspy\n",
    "from hybridagi import HybridAGI"
   ]
  },
  {
   "cell_type": "code",
   "execution_count": 15,
   "metadata": {},
   "outputs": [],
   "source": [
    "lm = dspy.OllamaLocal(model='mistral', max_tokens=1024, stop=[\"\\n\\n\\n\"])\n",
    "\n",
    "dspy.configure(lm=lm)"
   ]
  },
  {
   "cell_type": "code",
   "execution_count": 16,
   "metadata": {},
   "outputs": [],
   "source": [
    "agent = HybridAGI(\n",
    "    agent_name = \"test\",\n",
    "    chunk_size = 1024000,   # Large chunk size to avoid splitting text\n",
    ")\n",
    "\n",
    "agent.add_programs_from_folders([\"programs/fact_memory/dynamic\"])\n",
    "agent.add_knowledge_from_folders([\"data/synalinks_data\"])"
   ]
  },
  {
   "cell_type": "code",
   "execution_count": 17,
   "metadata": {},
   "outputs": [
    {
     "name": "stdout",
     "output_type": "stream",
     "text": [
      "\u001b[35m --- Step 0 ---\n",
      "Call Program: main\n",
      "Program Purpose: Read file synalinks_data/synalinks_presentation.txt\u001b[0m\n",
      "\u001b[35m --- Step 1 ---\n",
      "Call Program: fulfill_objective\n",
      "Program Purpose: Fulfill the objective\u001b[0m\n",
      "\u001b[36m --- Step 2 ---\n",
      "Action Purpose: Search for existing routine to fulfill the objective\n",
      "Action: {\n",
      "  \"query\": \"Find routine for reading synalinks_presentation.txt\",\n",
      "  \"routines\": [\n",
      "    {\n",
      "      \"routine\": \"read_file\",\n",
      "      \"description\": \"Read the given document\"\n",
      "    },\n",
      "    {\n",
      "      \"routine\": \"triplets_parser\",\n",
      "      \"description\": \"Parse text into knowledge graph triplets\"\n",
      "    }\n",
      "  ]\n",
      "}\u001b[0m\n",
      "\u001b[36m --- Step 4 ---\n",
      "Action Purpose: Pick the most appropriate routine from the previous search\n",
      "Action: {\n",
      "  \"selected_routine\": \"read_file\",\n",
      "  \"observation\": \"Successfully called\"\n",
      "}\u001b[0m\n",
      "\u001b[36m --- Step 5 ---\n",
      "Action Purpose: Read a chunk of the given file\n",
      "Action: {\n",
      "  \"filename\": \"synalinks_data/synalinks_presentation.txt\",\n",
      "  \"content\": \"SynaLinks is a young French start-up founded in Toulouse in 2023.\\nOur mission is to promote a responsible and pragmatic approach to general artificial intelligence.\\nTo achieve this, we integrate deep learning models with symbolic artificial intelligence models, the traditional domain of AI before the era of deep learning.\\nAt SynaLinks, our approach aims to combine the efficiency of deep learning models with the transparency and explicability of symbolic models, thus creating more robust and ethical artificial intelligence systems. \\nWe work on cutting-edge technologies that enable businesses to fully harness the potential of AI while retaining significant control over their systems, reducing the risks associated with opacity and dependence on deep learning algorithms.\\nWe work closely with our clients to customize our solutions to meet their specific needs.\\nOur neuro-symbolic approach offers the flexibility necessary to address the diverse requirements of businesses, allowing them to remain masters of their AI.\\nWe are confident that AI can be a positive force for society and the economy,rather than a source of concern.\\nWe are committed to playing an active role in promoting responsible AI use while contributing to the advancement of the fourth industrial revolution.\\nAs a start-up based in Toulouse, we take pride in being part of the French technological ecosystem and contributing to innovation in the field of AI.\\nOur future is centered on ongoing research, improving our products and services, and creating a world where AI is a driver of progress, ethics, and profitability for businesses.\\n\\n{'filename': '/home/user/synalinks_data/synalinks_presentation.txt'}\"\n",
      "}\u001b[0m\n",
      "\u001b[36m --- Step 6 ---\n",
      "Action Purpose: Tell the user\n",
      "Action: {\n",
      "  \"message\": \"SynaLinks is a young French start-up founded in Toulouse in 2023.\\nOur mission is to promote a responsible and pragmatic approach to general artificial intelligence.\\nTo achieve this, we integrate deep learning models with symbolic artificial intelligence models, the traditional domain of AI before the era of deep learning.\\nSynaLinks aims to combine the efficiency of deep learning models with the transparency and explicability of symbolic models, thus creating more robust and ethical artificial intelligence systems.\\nWe work on cutting-edge technologies that enable businesses to fully harness the potential of AI while retaining significant control over their systems, reducing the risks associated with opacity and dependence on deep learning algorithms.\\nWe work closely with our clients to customize our solutions to meet their specific needs.\\nOur neuro-symbolic approach offers the flexibility necessary to address the diverse requirements of businesses, allowing them to remain masters of their AI.\\nWe are confident that AI can be a positive force for society and the economy, rather than a source of concern.\\nWe are committed to playing an active role in promoting responsible AI use while contributing to the advancement of the fourth industrial revolution.\\nAs a start-up based in Toulouse, we take pride in being part of the French technological ecosystem and contributing to innovation in the field of AI.\\nOur future is centered on ongoing research, improving our products and services, and creating a world where AI is a driver of progress, ethics, and profitability for businesses.\"\n",
      "}\u001b[0m\n",
      "\u001b[35m --- Step 7 ---\n",
      "End Program: read_file\u001b[0m\n",
      "\u001b[35m --- Step 8 ---\n",
      "End Program: fulfill_objective\u001b[0m\n",
      "\u001b[35m --- Step 9 ---\n",
      "End Program: main\u001b[0m\n",
      "\u001b[33mFinal Answer:\n",
      "\n",
      "SynaLinks is a young French start-up founded in Toulouse in 2023.\n",
      "Our mission is to promote a responsible and pragmatic approach to general artificial intelligence.\n",
      "To achieve this, we integrate deep learning models with symbolic artificial intelligence models, the traditional domain of AI before the era of deep learning.\n",
      "SynaLinks aims to combine the efficiency of deep learning models with the transparency and explicability of symbolic models, thus creating more robust and ethical artificial intelligence systems.\n",
      "We work on cutting-edge technologies that enable businesses to fully harness the potential of AI while retaining significant control over their systems, reducing the risks associated with opacity and dependence on deep learning algorithms.\n",
      "We work closely with our clients to customize our solutions to meet their specific needs.\n",
      "Our neuro-symbolic approach offers the flexibility necessary to address the diverse requirements of businesses, allowing them to remain masters of their AI.\n",
      "We are confident that AI can be a positive force for society and the economy, rather than a source of concern.\n",
      "We are committed to playing an active role in promoting responsible AI use while contributing to the advancement of the fourth industrial revolution.\n",
      "As a start-up based in Toulouse, we take pride in being part of the French technological ecosystem and contributing to innovation in the field of AI.\n",
      "Our future is centered on ongoing research, improving our products and services, and creating a world where AI is a driver of progress, ethics, and profitability for businesses.\u001b[0m\n",
      "\u001b[32mChat History:\n",
      "\n",
      "[\n",
      "  {\n",
      "    \"role\": \"User\",\n",
      "    \"message\": \"Read file synalinks_data/synalinks_presentation.txt\"\n",
      "  },\n",
      "  {\n",
      "    \"role\": \"AI\",\n",
      "    \"message\": \"SynaLinks is a young French start-up founded in Toulouse in 2023.\\nOur mission is to promote a responsible and pragmatic approach to general artificial intelligence.\\nTo achieve this, we integrate deep learning models with symbolic artificial intelligence models, the traditional domain of AI before the era of deep learning.\\nSynaLinks aims to combine the efficiency of deep learning models with the transparency and explicability of symbolic models, thus creating more robust and ethical artificial intelligence systems.\\nWe work on cutting-edge technologies that enable businesses to fully harness the potential of AI while retaining significant control over their systems, reducing the risks associated with opacity and dependence on deep learning algorithms.\\nWe work closely with our clients to customize our solutions to meet their specific needs.\\nOur neuro-symbolic approach offers the flexibility necessary to address the diverse requirements of businesses, allowing them to remain masters of their AI.\\nWe are confident that AI can be a positive force for society and the economy, rather than a source of concern.\\nWe are committed to playing an active role in promoting responsible AI use while contributing to the advancement of the fourth industrial revolution.\\nAs a start-up based in Toulouse, we take pride in being part of the French technological ecosystem and contributing to innovation in the field of AI.\\nOur future is centered on ongoing research, improving our products and services, and creating a world where AI is a driver of progress, ethics, and profitability for businesses.\"\n",
      "  }\n",
      "]\u001b[0m\n"
     ]
    }
   ],
   "source": [
    "prediction = agent.execute(\"Read file synalinks_data/synalinks_presentation.txt\", verbose=True)\n",
    "file_content = prediction.final_answer"
   ]
  },
  {
   "cell_type": "code",
   "execution_count": null,
   "metadata": {},
   "outputs": [],
   "source": [
    "print(file_content)"
   ]
  },
  {
   "cell_type": "code",
   "execution_count": null,
   "metadata": {},
   "outputs": [],
   "source": [
    "content_question = f\"Parse this content into a knowledge graph \\n{file_content}\"\n",
    "prediction = agent.execute(content_question, verbose=True)\n",
    "triplets = prediction.final_answer"
   ]
  },
  {
   "cell_type": "code",
   "execution_count": null,
   "metadata": {},
   "outputs": [],
   "source": [
    "print(triplets)"
   ]
  },
  {
   "cell_type": "code",
   "execution_count": null,
   "metadata": {},
   "outputs": [],
   "source": [
    "triplet_question = f\"Add this entities into the fact memory \\n{triplets}\"\n",
    "prediction = agent.execute(objective=triplet_question, verbose=True)"
   ]
  }
 ],
 "metadata": {
  "kernelspec": {
   "display_name": "Python 3",
   "language": "python",
   "name": "python3"
  },
  "language_info": {
   "codemirror_mode": {
    "name": "ipython",
    "version": 3
   },
   "file_extension": ".py",
   "mimetype": "text/x-python",
   "name": "python",
   "nbconvert_exporter": "python",
   "pygments_lexer": "ipython3",
   "version": "3.11.9"
  }
 },
 "nbformat": 4,
 "nbformat_minor": 2
}
