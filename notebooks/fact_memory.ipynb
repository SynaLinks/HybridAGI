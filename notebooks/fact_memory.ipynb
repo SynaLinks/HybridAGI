{
 "cells": [
  {
   "cell_type": "code",
   "execution_count": null,
   "metadata": {},
   "outputs": [],
   "source": [
    "import dspy\n",
    "from hybridagi import HybridAGI\n",
    "from hybridagi.metrics import factual_answer"
   ]
  },
  {
   "cell_type": "code",
   "execution_count": 5,
   "metadata": {},
   "outputs": [],
   "source": [
    "# Setup the LM\n",
    "lm = dspy.OllamaLocal(model='mistral', max_tokens=1024, stop=[\"\\n\\n\\n\"])\n",
    "\n",
    "dspy.configure(lm=lm)"
   ]
  },
  {
   "cell_type": "code",
   "execution_count": 6,
   "metadata": {},
   "outputs": [
    {
     "name": "stdout",
     "output_type": "stream",
     "text": [
      "The system has successfully extracted the following knowledge triplets from the objective's statement:\n",
      "\n",
      "1. ('Type_of_Entity', 'is', 'start-up')\n",
      "2. ('Year_founded', 'is', '2023')\n",
      "3. ('City_of_origin', 'is', 'Toulouse')\n",
      "4. ('Country_of_origin', 'is', 'France')\n",
      "5. ('Location', 'is', 'Toulouse')\n"
     ]
    }
   ],
   "source": [
    "agent = HybridAGI(\n",
    "    agent_name = \"fm_simple\",\n",
    ")\n",
    "\n",
    "agent.add_programs_from_folders([\"programs/fact_memory/simple\"])\n",
    "\n",
    "# Now let's try our pipeline\n",
    "prediction = agent.execute(\"SynaLinks is a young French start-up founded in Toulouse in 2023.\")\n",
    "print(prediction.final_answer)\n"
   ]
  },
  {
   "cell_type": "code",
   "execution_count": 1,
   "metadata": {},
   "outputs": [
    {
     "name": "stderr",
     "output_type": "stream",
     "text": [
      "/home/zorzi/git/src/github.com/acazau/HybridAGI/acazau/HybridAGI/lib/python3.11/site-packages/tqdm/auto.py:21: TqdmWarning: IProgress not found. Please update jupyter and ipywidgets. See https://ipywidgets.readthedocs.io/en/stable/user_install.html\n",
      "  from .autonotebook import tqdm as notebook_tqdm\n"
     ]
    },
    {
     "name": "stdout",
     "output_type": "stream",
     "text": [
      "\u001b[35m --- Step 0 ---\n",
      "Call Program: main\n",
      "Program Purpose: \n",
      "SynaLinks is a young French start-up founded in Toulouse in 2023.\n",
      "Our mission is to promote a responsible and pragmatic approach to general artificial intelligence.\n",
      "To achieve this, we integrate deep learning models with symbolic artificial intelligence models, the traditional domain of AI before the era of deep learning.\n",
      "At SynaLinks, our approach aims to combine the efficiency of deep learning models with the transparency and explicability of symbolic models, thus creating more robust and ethical artificial intelligence systems. \n",
      "We work on cutting-edge technologies that enable businesses to fully harness the potential of AI while retaining significant control over their systems, reducing the risks associated with opacity and dependence on deep learning algorithms.\n",
      "We work closely with our clients to customize our solutions to meet their specific needs.\n",
      "Our neuro-symbolic approach offers the flexibility necessary to address the diverse requirements of businesses, allowing them to remain masters of their AI.\n",
      "We are confident that AI can be a positive force for society and the economy,rather than a source of concern.\n",
      "We are committed to playing an active role in promoting responsible AI use while contributing to the advancement of the fourth industrial revolution.\n",
      "As a start-up based in Toulouse, we take pride in being part of the French technological ecosystem and contributing to innovation in the field of AI.\n",
      "Our future is centered on ongoing research, improving our products and services, and creating a world where AI is a driver of progress, ethics, and profitability for businesses.\n",
      "\u001b[0m\n",
      "(Subject: SynaLinks, Predicate: is a young French start-up, Object: founded in Toulouse in 2023)\n",
      "(Subject: SynaLinks, Predicate: has a mission, Object: to promote a responsible and pragmatic approach to general artificial intelligence)\n",
      "(Subject: SynaLinks, Predicate: achieves its mission, Object: by integrating deep learning models with symbolic AI models)\n",
      "(Subject: SynaLinks' approach, Predicate: aims to combine, Object: the efficiency of deep learning models with the transparency and explicability of symbolic models)\n",
      "(Subject: SynaLinks, Predicate: works on, Object: cutting-edge technologies that enable businesses to harness AI potential)\n",
      "(Subject: SynaLinks' solutions, Predicate: are customized, Object: to meet clients' specific needs)\n",
      "(Subject: SynaLinks' approach, Predicate: offers flexibility, Object: necessary to address diverse business requirements)\n",
      "(Subject: SynaLinks, Predicate: is confident, Object: that AI can be a positive force for society and economy)\n",
      "(Subject: SynaLinks, Predicate: is committed, Object: to promoting responsible AI use and advancing the fourth industrial revolution)\n",
      "(Subject: SynaLinks, Predicate: takes pride in, Object: being part of the French technological ecosystem)\n",
      "(Subject: SynaLinks' future, Predicate: is centered on, Object: ongoing research, improving products and services, and creating a world where AI drives progress, ethics, and profitability for businesses)\n",
      "\u001b[36m --- Step 1 ---\n",
      "Action Purpose: Create a list of triplets based on the objective's statement\n",
      "Action: {\n",
      "  \"message\": \"Error: Unable to parse triplets from LLM output\"\n",
      "}\u001b[0m\n",
      "\u001b[35m --- Step 3 ---\n",
      "End Program: main\u001b[0m\n",
      "\u001b[33mFinal Answer:\n",
      "\n",
      "\u001b[0m\n",
      "\u001b[32mChat History:\n",
      "\n",
      "[\n",
      "  {\n",
      "    \"role\": \"User\",\n",
      "    \"message\": \"\\nSynaLinks is a young French start-up founded in Toulouse in 2023.\\nOur mission is to promote a responsible and pragmatic approach to general artificial intelligence.\\nTo achieve this, we integrate deep learning models with symbolic artificial intelligence models, the traditional domain of AI before the era of deep learning.\\nAt SynaLinks, our approach aims to combine the efficiency of deep learning models with the transparency and explicability of symbolic models, thus creating more robust and ethical artificial intelligence systems. \\nWe work on cutting-edge technologies that enable businesses to fully harness the potential of AI while retaining significant control over their systems, reducing the risks associated with opacity and dependence on deep learning algorithms.\\nWe work closely with our clients to customize our solutions to meet their specific needs.\\nOur neuro-symbolic approach offers the flexibility necessary to address the diverse requirements of businesses, allowing them to remain masters of their AI.\\nWe are confident that AI can be a positive force for society and the economy,rather than a source of concern.\\nWe are committed to playing an active role in promoting responsible AI use while contributing to the advancement of the fourth industrial revolution.\\nAs a start-up based in Toulouse, we take pride in being part of the French technological ecosystem and contributing to innovation in the field of AI.\\nOur future is centered on ongoing research, improving our products and services, and creating a world where AI is a driver of progress, ethics, and profitability for businesses.\\n\"\n",
      "  }\n",
      "]\u001b[0m\n"
     ]
    }
   ],
   "source": [
    "import dspy\n",
    "from hybridagi import HybridAGI\n",
    "\n",
    "objective = \\\n",
    "f\"\"\"\n",
    "SynaLinks is a young French start-up founded in Toulouse in 2023.\n",
    "Our mission is to promote a responsible and pragmatic approach to general artificial intelligence.\n",
    "To achieve this, we integrate deep learning models with symbolic artificial intelligence models, the traditional domain of AI before the era of deep learning.\n",
    "At SynaLinks, our approach aims to combine the efficiency of deep learning models with the transparency and explicability of symbolic models, thus creating more robust and ethical artificial intelligence systems. \n",
    "We work on cutting-edge technologies that enable businesses to fully harness the potential of AI while retaining significant control over their systems, reducing the risks associated with opacity and dependence on deep learning algorithms.\n",
    "We work closely with our clients to customize our solutions to meet their specific needs.\n",
    "Our neuro-symbolic approach offers the flexibility necessary to address the diverse requirements of businesses, allowing them to remain masters of their AI.\n",
    "We are confident that AI can be a positive force for society and the economy,rather than a source of concern.\n",
    "We are committed to playing an active role in promoting responsible AI use while contributing to the advancement of the fourth industrial revolution.\n",
    "As a start-up based in Toulouse, we take pride in being part of the French technological ecosystem and contributing to innovation in the field of AI.\n",
    "Our future is centered on ongoing research, improving our products and services, and creating a world where AI is a driver of progress, ethics, and profitability for businesses.\n",
    "\"\"\"\n",
    "\n",
    "# Setup the LM\n",
    "lm = dspy.OllamaLocal(model='mistral', max_tokens=1024, stop=[\"\\n\\n\\n\"])\n",
    "\n",
    "dspy.configure(lm=lm)\n",
    "\n",
    "agent = HybridAGI(\n",
    "    agent_name = \"test01\",\n",
    ")\n",
    "\n",
    "agent.add_programs_from_folders([\"programs/fact_memory/triplets_extraction_only\"])\n",
    "\n",
    "prediction = agent.execute(objective, verbose = True)\n"
   ]
  },
  {
   "cell_type": "code",
   "execution_count": 5,
   "metadata": {},
   "outputs": [
    {
     "name": "stdout",
     "output_type": "stream",
     "text": [
      "[\n",
      "  {\n",
      "    \"role\": \"User\",\n",
      "    \"message\": \"\\nSynaLinks is a young French start-up founded in Toulouse in 2023.\\nOur mission is to promote a responsible and pragmatic approach to general artificial intelligence.\\nTo achieve this, we integrate deep learning models with symbolic artificial intelligence models, the traditional domain of AI before the era of deep learning.\\nAt SynaLinks, our approach aims to combine the efficiency of deep learning models with the transparency and explicability of symbolic models, thus creating more robust and ethical artificial intelligence systems. \\nWe work on cutting-edge technologies that enable businesses to fully harness the potential of AI while retaining significant control over their systems, reducing the risks associated with opacity and dependence on deep learning algorithms.\\nWe work closely with our clients to customize our solutions to meet their specific needs.\\nOur neuro-symbolic approach offers the flexibility necessary to address the diverse requirements of businesses, allowing them to remain masters of their AI.\\nWe are confident that AI can be a positive force for society and the economy,rather than a source of concern.\\nWe are committed to playing an active role in promoting responsible AI use while contributing to the advancement of the fourth industrial revolution.\\nAs a start-up based in Toulouse, we take pride in being part of the French technological ecosystem and contributing to innovation in the field of AI.\\nOur future is centered on ongoing research, improving our products and services, and creating a world where AI is a driver of progress, ethics, and profitability for businesses.\\n\"\n",
      "  }\n",
      "]\n"
     ]
    }
   ],
   "source": [
    "print(prediction.chat_history)"
   ]
  }
 ],
 "metadata": {
  "kernelspec": {
   "display_name": "Python 3",
   "language": "python",
   "name": "python3"
  },
  "language_info": {
   "codemirror_mode": {
    "name": "ipython",
    "version": 3
   },
   "file_extension": ".py",
   "mimetype": "text/x-python",
   "name": "python",
   "nbconvert_exporter": "python",
   "pygments_lexer": "ipython3",
   "version": "3.11.9"
  }
 },
 "nbformat": 4,
 "nbformat_minor": 2
}
